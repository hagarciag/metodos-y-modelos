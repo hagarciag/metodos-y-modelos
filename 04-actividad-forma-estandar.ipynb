{
 "cells": [
  {
   "cell_type": "markdown",
   "metadata": {
    "slideshow": {
     "slide_type": "slide"
    }
   },
   "source": [
    "Forma Estándar\n",
    "===\n",
    "\n",
    "**Juan David Velásquez Henao**  \n",
    "jdvelasq@unal.edu.co   \n",
    "Universidad Nacional de Colombia, Sede Medellín  \n",
    "Facultad de Minas  \n",
    "Medellín, Colombia\n",
    "\n",
    "---\n",
    "\n",
    "Haga click [aquí](https://github.com/jdvelasq/metodos-y-modelos/blob/master/04-forma-estandar.ipynb) para acceder a la última versión online\n",
    "\n",
    "Haga click [aquí](http://nbviewer.jupyter.org/github/jdvelasq/metodos-y-modelos/blob/master/04-forma-estandar.ipynb) para ver la última versión online en `nbviewer`. \n",
    "\n",
    "---"
   ]
  },
  {
   "cell_type": "markdown",
   "metadata": {},
   "source": [
    "En la forma estándar todas las restricciones son transformadas a igualdades con los $b_i \\ge 0$. Sea el modelo:\n",
    "\n",
    "$$\n",
    "\\text{min } \\sum_{j=1}^m c_j x_j\n",
    "$$\n",
    " \n",
    "Sujeto a:\n",
    "\n",
    "$$\n",
    "\\sum_{j=1}^n a_{ij} x_j = b_i \\text{   para   } i = 1, ..., m\n",
    "$$\n",
    "\n",
    "$$\n",
    " x_j \\ge 0 \\text{   para   } j = 1, ..., n\n",
    "$$\n",
    "\n",
    "Forma matricial:\n",
    "\n",
    "$$ \\text{min   } z = c~x \\qquad \\text{s/a: } Ax = b, \\quad ~~x \\ge 0$$"
   ]
  },
  {
   "cell_type": "markdown",
   "metadata": {},
   "source": [
    "**Transformación de un problema a la forma estándar**."
   ]
  },
  {
   "cell_type": "markdown",
   "metadata": {},
   "source": [
    "Si la $i$-ésima restricción es $\\le$, se le suma una variable adicional $x_{n+i}$:\n",
    "\n",
    "$$\n",
    "\\sum_{j=1}^n a_{ij} x_j \\le b_i ~~\\rightarrow  ~~ \\sum_{j=1}^n a_{ij} x_j + x_{n+i} = b_i\n",
    "$$"
   ]
  },
  {
   "cell_type": "markdown",
   "metadata": {},
   "source": [
    "Si la $i$-ésima restricción es $\\ge$, se le resta una variable adicional $x_{n+i}$:\n",
    "\n",
    "$$\n",
    "\\sum_{j=1}^n a_{ij} x_j \\ge b_i ~~\\rightarrow  ~~ \\sum_{j=1}^n a_{ij} x_j - x_{n+i} = b_i\n",
    "$$"
   ]
  },
  {
   "cell_type": "markdown",
   "metadata": {},
   "source": [
    "Si la $i$-ésima variable tiene restricción de signo: $-\\infty < x_i < \\infty$, se reemplaza $x_i = x_i' - x_i''$"
   ]
  },
  {
   "cell_type": "markdown",
   "metadata": {},
   "source": [
    "**Ejemplo**"
   ]
  },
  {
   "cell_type": "markdown",
   "metadata": {},
   "source": [
    "Función objetivo:\n",
    "\n",
    "$$\\text{min } z = x_1 + x_2$$\n",
    "\n",
    "Sujeto a:\n",
    "$$ \n",
    "\\begin{array}{cccc}\n",
    "   2x_1 & +3~x_2 & \\le & 6\\\\\n",
    "    x_1 & +7~x_2 & \\ge & 4\\\\\n",
    "    x_1 &   +~\n",
    "x_2 & =   & 3\\\\\n",
    "\\end{array}\n",
    "$$\n",
    "\n",
    "con: $x_1 \\ge 0$, $-\\infty < x_2 < \\infty$."
   ]
  },
  {
   "cell_type": "markdown",
   "metadata": {},
   "source": [
    "**Paso 1**. Se representa el problema en forma matricial:"
   ]
  },
  {
   "cell_type": "code",
   "execution_count": 1,
   "metadata": {
    "collapsed": true
   },
   "outputs": [],
   "source": [
    "import numpy as np"
   ]
  },
  {
   "cell_type": "code",
   "execution_count": 2,
   "metadata": {},
   "outputs": [
    {
     "data": {
      "text/plain": [
       "matrix([[ 2.,  3.,  0.,  6.],\n",
       "        [ 1.,  7.,  0.,  4.],\n",
       "        [ 1.,  1.,  0.,  3.],\n",
       "        [ 1.,  1., -1.,  0.]])"
      ]
     },
     "execution_count": 2,
     "metadata": {},
     "output_type": "execute_result"
    }
   ],
   "source": [
    "m = np.matrix('2. 3 0 6; 1 7 0 4; 1 1 0 3; 1 1 -1 0')\n",
    "m"
   ]
  },
  {
   "cell_type": "markdown",
   "metadata": {},
   "source": [
    "**Nota**: la última fila de la matriz corresponde a la función objetivo $x_1 + x_2 - z = 0$. "
   ]
  },
  {
   "cell_type": "markdown",
   "metadata": {},
   "source": [
    "**Paso 2.** Se adiciona la variable de holgura $x_3$ a la primera restricción. "
   ]
  },
  {
   "cell_type": "code",
   "execution_count": 3,
   "metadata": {
    "scrolled": true
   },
   "outputs": [
    {
     "data": {
      "text/plain": [
       "matrix([[ 2.,  3.,  1.,  0.,  6.],\n",
       "        [ 1.,  7.,  0.,  0.,  4.],\n",
       "        [ 1.,  1.,  0.,  0.,  3.],\n",
       "        [ 1.,  1.,  0., -1.,  0.]])"
      ]
     },
     "execution_count": 3,
     "metadata": {},
     "output_type": "execute_result"
    }
   ],
   "source": [
    "m = np.c_[m[:,[0,1]], np.matrix('1; 0; 0; 0'), m[:, [2,3]]]\n",
    "m"
   ]
  },
  {
   "cell_type": "markdown",
   "metadata": {},
   "source": [
    "**Paso 3.** Se resta la variable de holgura $x_4$ de la segunda restricción."
   ]
  },
  {
   "cell_type": "code",
   "execution_count": 4,
   "metadata": {
    "scrolled": true
   },
   "outputs": [
    {
     "data": {
      "text/plain": [
       "matrix([[ 2.,  3.,  1.,  0.,  0.,  6.],\n",
       "        [ 1.,  7.,  0., -1.,  0.,  4.],\n",
       "        [ 1.,  1.,  0.,  0.,  0.,  3.],\n",
       "        [ 1.,  1.,  0.,  0., -1.,  0.]])"
      ]
     },
     "execution_count": 4,
     "metadata": {},
     "output_type": "execute_result"
    }
   ],
   "source": [
    "m = np.c_[m[:,[0,1,2]], np.matrix('0; -1; 0; 0'), m[:, [-2,-1]]]\n",
    "m"
   ]
  },
  {
   "cell_type": "markdown",
   "metadata": {},
   "source": [
    "**Paso 4.** Se reemplaza $x_2$ por $x_2' - x_2''$. Esto equivale a agregar la variable $x_5 = -x_2$."
   ]
  },
  {
   "cell_type": "code",
   "execution_count": 5,
   "metadata": {
    "scrolled": true
   },
   "outputs": [
    {
     "data": {
      "text/plain": [
       "matrix([[ 2.,  3.,  1.,  0., -3.,  0.,  6.],\n",
       "        [ 1.,  7.,  0., -1., -7.,  0.,  4.],\n",
       "        [ 1.,  1.,  0.,  0., -1.,  0.,  3.],\n",
       "        [ 1.,  1.,  0.,  0., -1., -1.,  0.]])"
      ]
     },
     "execution_count": 5,
     "metadata": {},
     "output_type": "execute_result"
    }
   ],
   "source": [
    "m = np.c_[m[:,[0,1,2,3]], -m[:,1], m[:, [-2,-1]]]\n",
    "m"
   ]
  },
  {
   "cell_type": "markdown",
   "metadata": {},
   "source": [
    "**Ejercicio** Transforme a la forma estándar los siguienes modelos."
   ]
  },
  {
   "cell_type": "markdown",
   "metadata": {},
   "source": [
    "**Modelo 1)**\n",
    "\n",
    "Función objetivo:\n",
    "\n",
    "$$\\text{max } 2x_1 + 3x_2$$\n",
    "\n",
    "Sujeto a:\n",
    "$$ \\begin{array}{cccc}\n",
    "    x_1 & +2x_2 & \\le & 6\\\\\n",
    "   2x_1 & +x_2  & \\le & 8\\\\\n",
    "    x_1 &       & \\ge & 8\\\\\n",
    "        &   x_1, x_2    &  \\ge & 0\n",
    "  \\end{array}$$"
   ]
  },
  {
   "cell_type": "markdown",
   "metadata": {},
   "source": [
    "**Problema 2.**\n",
    "\n",
    "Función objetivo:\n",
    "\n",
    "$$\\text{max } 3x_1 + 5x_2$$\n",
    "\n",
    "Sujeto a:\n",
    "$$ \\begin{array}{cccc}\n",
    "    x_1 &       & \\ge &  5\\\\\n",
    "        &  +x_2 & \\le & 10\\\\\n",
    "    x_1 & +2x_2 & \\ge & 10\\\\\n",
    "        & x_1, x_2    &  \\ge & 0\n",
    "  \\end{array}$$"
   ]
  },
  {
   "cell_type": "markdown",
   "metadata": {},
   "source": [
    "**Problema 3.**\n",
    "\n",
    "Función objetivo:\n",
    "\n",
    "$$\\text{max } 40x_1 + 60x_2$$\n",
    "\n",
    "Sujeto a:\n",
    "$$ \\begin{array}{cccc}\n",
    "    2x_1 &  +x_2 & \\le & 70\\\\\n",
    "     x_1 &  +x_2 & \\le & 40\\\\\n",
    "     x_1 & +3x_2 & \\le & 90\\\\\n",
    "        & x_1, x_2    &  \\ge & 0\n",
    "  \\end{array}$$"
   ]
  },
  {
   "cell_type": "markdown",
   "metadata": {},
   "source": [
    "**Problema 4.**\n",
    "\n",
    "Función objetivo:\n",
    "\n",
    "$$\\text{max } 3x_1 + 2x_2$$\n",
    "\n",
    "Sujeto a:\n",
    "$$ \\begin{array}{cccc}\n",
    "    6x_1 &  +4x_2 & \\le & 24\\\\\n",
    "     x_1 &        & \\le & 3\\\\\n",
    "        & x_1, x_2 &  \\ge & 0\n",
    "  \\end{array}$$"
   ]
  },
  {
   "cell_type": "markdown",
   "metadata": {
    "slideshow": {
     "slide_type": "slide"
    }
   },
   "source": [
    "Forma Estándar\n",
    "===\n",
    "\n",
    "**Juan David Velásquez Henao**  \n",
    "jdvelasq@unal.edu.co   \n",
    "Universidad Nacional de Colombia, Sede Medellín  \n",
    "Facultad de Minas  \n",
    "Medellín, Colombia\n",
    "\n",
    "---\n",
    "\n",
    "Haga click [aquí](https://github.com/jdvelasq/metodos-y-modelos/blob/master/04-forma-estandar.ipynb) para acceder a la última versión online\n",
    "\n",
    "Haga click [aquí](http://nbviewer.jupyter.org/github/jdvelasq/metodos-y-modelos/blob/master/04-forma-estandar.ipynb) para ver la última versión online en `nbviewer`. \n",
    "\n",
    "---"
   ]
  }
 ],
 "metadata": {
  "anaconda-cloud": {},
  "kernelspec": {
   "display_name": "Python 3",
   "language": "python",
   "name": "python3"
  },
  "language_info": {
   "codemirror_mode": {
    "name": "ipython",
    "version": 3
   },
   "file_extension": ".py",
   "mimetype": "text/x-python",
   "name": "python",
   "nbconvert_exporter": "python",
   "pygments_lexer": "ipython3",
   "version": "3.6.2"
  }
 },
 "nbformat": 4,
 "nbformat_minor": 1
}
