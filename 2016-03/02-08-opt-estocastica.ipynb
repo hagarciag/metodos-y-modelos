{
 "cells": [
  {
   "cell_type": "markdown",
   "metadata": {},
   "source": [
    "# Optimización estocástica\n",
    "Notas de clase sobre la planificación centralizada de mercados eléctricos"
   ]
  },
  {
   "cell_type": "markdown",
   "metadata": {},
   "source": [
    "**Juan David Velásquez Henao**   \n",
    "jdvelasq@unal.edu.co  \n",
    "Universidad Nacional de Colombia, Sede Medellín  \n",
    "Facultad de Minas  \n",
    "Medellín, Colombia  \n",
    "\n",
    "[Licencia](https://github.com/jdvelasq/ETVL-R/blob/master/LICENCIA.txt)  \n",
    "[Readme](https://github.com/jdvelasq/ETVL-R/blob/master/Readme.md)"
   ]
  },
  {
   "cell_type": "markdown",
   "metadata": {},
   "source": [
    "**Software utilizado**.\n",
    "\n",
    "> Este es un documento interactivo escrito como un notebook de [Jupyter](http://jupyter.org), en el cual se presenta un tutorial sobre la extracción, transformación, visualización y carga de datos usando **R** en el contexto de la ciencia de los datos. Los notebooks de Jupyter permiten incoporar simultáneamente código, texto, gráficos y ecuaciones. El código presentado en este notebook puede ejecutarse en los sistemas operativos Linux y OS X.\n",
    "\n",
    "> Haga click [aquí](https://github.com/jdvelasq/guias-de-instalacion) para obtener instrucciones detalladas sobre como instalar Jupyter en Windows y Mac OS X.\n",
    "\n",
    "> Haga clic [aquí](http://nbviewer.jupyter.org/github/jdvelasq/ETVL-R/blob/master/ETVL-R-1-uso-interactivo.ipynb) para ver la última versión de este documento en nbviewer.\n",
    "\n",
    "> Descargue la última versión de este documento a su disco duro; luego, carguelo y ejecutelo en línea en [Try Jupyter!](https://try.jupyter.org)\n",
    "\n"
   ]
  },
  {
   "cell_type": "markdown",
   "metadata": {},
   "source": [
    "#### Contenido"
   ]
  },
  {
   "cell_type": "markdown",
   "metadata": {},
   "source": [
    "> "
   ]
  },
  {
   "cell_type": "markdown",
   "metadata": {},
   "source": [
    "# Introducción"
   ]
  },
  {
   "cell_type": "markdown",
   "metadata": {},
   "source": [
    "[Contenido](#Contenido)"
   ]
  },
  {
   "cell_type": "markdown",
   "metadata": {},
   "source": [
    "En este documento se aborda el problema del modelo de series de aportes y caudales para la planificación de sistemas hidrotérmicos. Esta es una descripción muy simple tiene como fin describir los elementos básicos a tener en cuenta en este tipo de problemas. "
   ]
  },
  {
   "cell_type": "markdown",
   "metadata": {},
   "source": [
    "# Optimización lineal estocástica implícita"
   ]
  },
  {
   "cell_type": "markdown",
   "metadata": {},
   "source": [
    "[Contenido](#Contenido)"
   ]
  },
  {
   "cell_type": "markdown",
   "metadata": {},
   "source": [
    "En este caso se generan muchas series sintéticas y se resuelve el modelo para cada serie sintética. Se utiliza el mismo modelo de las sesiones anteriores."
   ]
  },
  {
   "cell_type": "markdown",
   "metadata": {},
   "source": [
    "# Optimización lineal estocástica explícita"
   ]
  },
  {
   "cell_type": "markdown",
   "metadata": {},
   "source": [
    "[Contenido](#Contenido)"
   ]
  },
  {
   "cell_type": "markdown",
   "metadata": {},
   "source": [
    "## Generación de las series de caudal"
   ]
  },
  {
   "cell_type": "markdown",
   "metadata": {},
   "source": [
    "[Contenido](#Contenido)"
   ]
  },
  {
   "cell_type": "markdown",
   "metadata": {},
   "source": [
    "Para este caso se va a suponer hay una sola planta hidráulica. "
   ]
  },
  {
   "cell_type": "markdown",
   "metadata": {},
   "source": [
    "* La generación de series sintética empieza utilizando el último aporte histórico $A_0$; es decir, $t=0$. "
   ]
  },
  {
   "cell_type": "markdown",
   "metadata": {},
   "source": [
    "* A partir del valor de cada aporte se generarán dos aportes para el periodo siguiente. "
   ]
  },
  {
   "cell_type": "markdown",
   "metadata": {},
   "source": [
    "* Para el periodo $t=1$ se generan los aportes $A_{1,1}$ y $A_{1,2}$ usando el modelo estocástico de caudales estimado tal como se indicó en las secciones anteriores. Si $z_t = 0.52~z_{t-1} + 0.1 e_t$,   $A_{0} = 0.12$ y $\\sigma=0.1$, entonces: "
   ]
  },
  {
   "cell_type": "code",
   "execution_count": 2,
   "metadata": {
    "collapsed": false,
    "scrolled": true
   },
   "outputs": [
    {
     "data": {
      "text/html": [
       "0.00750415764586499"
      ],
      "text/latex": [
       "0.00750415764586499"
      ],
      "text/markdown": [
       "0.00750415764586499"
      ],
      "text/plain": [
       "[1] 0.007504158"
      ]
     },
     "metadata": {},
     "output_type": "display_data"
    },
    {
     "data": {
      "text/html": [
       "0.195392758465406"
      ],
      "text/latex": [
       "0.195392758465406"
      ],
      "text/markdown": [
       "0.195392758465406"
      ],
      "text/plain": [
       "[1] 0.1953928"
      ]
     },
     "metadata": {},
     "output_type": "display_data"
    }
   ],
   "source": [
    "A0 = 0.12  # ultimo valor conocido\n",
    "A11 = 0.52 * A0 + 0.1 *rnorm(1)\n",
    "A12 = 0.52 * A0 + 0.1 *rnorm(1)\n",
    "A11\n",
    "A12"
   ]
  },
  {
   "cell_type": "markdown",
   "metadata": {},
   "source": [
    "* Para el periodo $t=2$ se generan cuatro aportes $A_{2,1}$, $A_{2,2}$, $A_{2,3}$ y $A_{2,4}$. Los primeros dos son generados usando como dato de enetrada a $A_{1,1}$ y los otros dos a $A_{1,2}$. "
   ]
  },
  {
   "cell_type": "code",
   "execution_count": null,
   "metadata": {
    "collapsed": true
   },
   "outputs": [],
   "source": [
    "A21 = 0.52 * A11 + 0.1 *rnorm(1)\n",
    "A22 = 0.52 * A11 + 0.1 *rnorm(1)\n",
    "A23 = 0.52 * A12 + 0.1 *rnorm(1)\n",
    "A24 = 0.52 * A12 + 0.1 *rnorm(1)"
   ]
  },
  {
   "cell_type": "markdown",
   "metadata": {},
   "source": [
    "* Es decir, hay dos aportes posibles para el periodo 1, cuatro para el periodo 2, ocho para el periodo 3, y así sucesivamente. El diagrama representativo es presentado a continuación."
   ]
  },
  {
   "cell_type": "markdown",
   "metadata": {},
   "source": [
    "![aportes](aportes.jpg)"
   ]
  },
  {
   "cell_type": "markdown",
   "metadata": {
    "collapsed": true
   },
   "source": [
    "## Modelo matemático"
   ]
  },
  {
   "cell_type": "markdown",
   "metadata": {},
   "source": [
    "[Contenido](#Contenido)"
   ]
  },
  {
   "cell_type": "markdown",
   "metadata": {
    "collapsed": true
   },
   "source": [
    "En este caso se minimiza el valor esperado de los costos de generación. A continuación se plantea el modelo para dos periodos."
   ]
  },
  {
   "cell_type": "markdown",
   "metadata": {},
   "source": [
    "$$\\text{minimize}~~ \\frac{1}{2}\\sum_{e=1}^2 CC*GT_{1,e} + CR*DEF_{1,e}~~+~~\\frac{1}{4}\\sum_{e=1}^4 CC*GT_{2,e} + CR*DEF_{2,e} $$"
   ]
  },
  {
   "cell_type": "markdown",
   "metadata": {},
   "source": [
    "Sujeto a:"
   ]
  },
  {
   "cell_type": "markdown",
   "metadata": {},
   "source": [
    "* Satisfacción de la demanda en la etapa 1"
   ]
  },
  {
   "cell_type": "markdown",
   "metadata": {},
   "source": [
    "$$DEF_{1, 1} + GT_{1,1} + \\rho~Q_{1,1} = dem_1$$\n",
    "$$DEF_{1, 2} + GT_{1,2} + \\rho~Q_{1,2} = dem_1$$"
   ]
  },
  {
   "cell_type": "markdown",
   "metadata": {},
   "source": [
    "* Satisfacción de la demanda en la etapa 2"
   ]
  },
  {
   "cell_type": "markdown",
   "metadata": {},
   "source": [
    "$$DEF_{2, 1} + GT_{2,1} + \\rho~Q_{2,1} = dem_2$$\n",
    "$$DEF_{2, 2} + GT_{2,2} + \\rho~Q_{2,2} = dem_2$$\n",
    "$$DEF_{2, 3} + GT_{2,3} + \\rho~Q_{2,3} = dem_2$$\n",
    "$$DEF_{2, 4} + GT_{2,4} + \\rho~Q_{2,4} = dem_2$$"
   ]
  },
  {
   "cell_type": "markdown",
   "metadata": {
    "collapsed": false,
    "scrolled": false
   },
   "source": [
    "* Continuidad en el embalse para la etapa 1"
   ]
  },
  {
   "cell_type": "markdown",
   "metadata": {},
   "source": [
    "$$Vol_{1, 1} + Q_{1,1} + Ver_{1,1} = A_{1,1} + V_o$$\n",
    "$$Vol_{1, 2} + Q_{1,2} + Ver_{1,2} = A_{1,2} + V_o$$"
   ]
  },
  {
   "cell_type": "markdown",
   "metadata": {},
   "source": [
    "* Continuidad en el embalse para la etapa 2"
   ]
  },
  {
   "cell_type": "markdown",
   "metadata": {},
   "source": [
    "$$Vol_{2, 1} - Vol_{1,1} + Q_{2,1} + Ver_{2,1} = A_{2,1} $$\n",
    "$$Vol_{2, 2} - Vol_{1,1} + Q_{2,2} + Ver_{2,2} = A_{2,2} $$\n",
    "$$Vol_{2, 3} - Vol_{1,2} + Q_{2,3} + Ver_{2,3} = A_{2,3} $$\n",
    "$$Vol_{2, 4} - Vol_{1,2} + Q_{2,4} + Ver_{2,4} = A_{2,4} $$"
   ]
  },
  {
   "cell_type": "markdown",
   "metadata": {},
   "source": [
    "* Se continua de la misma forma adicionando las restricciones faltantes."
   ]
  },
  {
   "cell_type": "markdown",
   "metadata": {},
   "source": [
    "---"
   ]
  },
  {
   "cell_type": "markdown",
   "metadata": {},
   "source": [
    "[Contenido](#Contenido)"
   ]
  },
  {
   "cell_type": "markdown",
   "metadata": {},
   "source": [
    "<a rel=\"license\" href=\"http://creativecommons.org/licenses/by-nc-nd/4.0/\"><img alt=\"Licencia de Creative Commons\" style=\"border-width:0\" src=\"https://i.creativecommons.org/l/by-nc-nd/4.0/88x31.png\" /></a><br />Este obra está bajo una <a rel=\"license\" href=\"http://creativecommons.org/licenses/by-nc-nd/4.0/\">licencia de Creative Commons Reconocimiento-NoComercial-SinObraDerivada 4.0 Internacional</a>."
   ]
  }
 ],
 "metadata": {
  "kernelspec": {
   "display_name": "R",
   "language": "R",
   "name": "ir"
  },
  "language_info": {
   "codemirror_mode": "r",
   "file_extension": ".r",
   "mimetype": "text/x-r-source",
   "name": "R",
   "pygments_lexer": "r",
   "version": "3.3.0"
  }
 },
 "nbformat": 4,
 "nbformat_minor": 0
}
