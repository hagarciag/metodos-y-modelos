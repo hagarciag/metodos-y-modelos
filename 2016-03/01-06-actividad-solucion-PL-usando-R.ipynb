{
 "cells": [
  {
   "cell_type": "markdown",
   "metadata": {},
   "source": [
    "# Solución de problemas de programación lineal usando R\n",
    "Notas de clase sobre la planificación centralizada de mercados eléctricos"
   ]
  },
  {
   "cell_type": "markdown",
   "metadata": {},
   "source": [
    "**Juan David Velásquez Henao**   \n",
    "jdvelasq@unal.edu.co  \n",
    "Universidad Nacional de Colombia, Sede Medellín  \n",
    "Facultad de Minas  \n",
    "Medellín, Colombia  \n",
    "\n",
    "[Licencia](https://github.com/jdvelasq/ETVL-R/blob/master/LICENCIA.txt)  \n",
    "[Readme](https://github.com/jdvelasq/ETVL-R/blob/master/Readme.md)"
   ]
  },
  {
   "cell_type": "markdown",
   "metadata": {},
   "source": [
    "**Software utilizado**.\n",
    "\n",
    "> Este es un documento interactivo escrito como un notebook de [Jupyter](http://jupyter.org), en el cual se presenta un tutorial sobre la extracción, transformación, visualización y carga de datos usando **R** en el contexto de la ciencia de los datos. Los notebooks de Jupyter permiten incoporar simultáneamente código, texto, gráficos y ecuaciones. El código presentado en este notebook puede ejecutarse en los sistemas operativos Linux y OS X.\n",
    "\n",
    "> Haga click [aquí](https://github.com/jdvelasq/guias-de-instalacion) para obtener instrucciones detalladas sobre como instalar Jupyter en Windows y Mac OS X.\n",
    "\n",
    "> Haga clic [aquí](http://nbviewer.jupyter.org/github/jdvelasq/metodos-y-modelos/blob/master/01-06-actividad-solucion-PL-usando-R.ipynb) para ver la última versión de este documento en nbviewer.\n",
    "\n",
    "> Descargue la última versión de este documento a su disco duro; luego, carguelo y ejecutelo en línea en [Try Jupyter!](https://try.jupyter.org)\n"
   ]
  },
  {
   "cell_type": "markdown",
   "metadata": {},
   "source": [
    "#### Contenido"
   ]
  },
  {
   "cell_type": "markdown",
   "metadata": {},
   "source": [
    "> * [Librería utilizada](#Librería-utilizada)\n",
    "* [Ejemplos](#Ejemplos)\n",
    "   * [Ejemplo 1](#Ejemplo-1)\n",
    "   * [Ejemplo 2](#Ejemplo-2)"
   ]
  },
  {
   "cell_type": "markdown",
   "metadata": {},
   "source": [
    "# Librería utilizada"
   ]
  },
  {
   "cell_type": "markdown",
   "metadata": {},
   "source": [
    "[Contenido](#Contenido)"
   ]
  },
  {
   "cell_type": "markdown",
   "metadata": {},
   "source": [
    "Para realizar la solución de los modelos de programación lineal se usará la libreraía lp-solve."
   ]
  },
  {
   "cell_type": "code",
   "execution_count": 1,
   "metadata": {
    "collapsed": false
   },
   "outputs": [
    {
     "name": "stdout",
     "output_type": "stream",
     "text": [
      "\n",
      "The downloaded binary packages are in\n",
      "\t/var/folders/4h/h8f6php55ng8t72qj45bhkhr0000gn/T//Rtmp3rFyNh/downloaded_packages\n",
      "\n",
      "The downloaded binary packages are in\n",
      "\t/var/folders/4h/h8f6php55ng8t72qj45bhkhr0000gn/T//Rtmp3rFyNh/downloaded_packages\n"
     ]
    }
   ],
   "source": [
    "# solo se requiere una vez para instalar las librerias\n",
    "# install.packages(\"lpSolve\")\n",
    "# install.packages(\"lpSolveAPI\")"
   ]
  },
  {
   "cell_type": "markdown",
   "metadata": {},
   "source": [
    "# Ejemplos"
   ]
  },
  {
   "cell_type": "markdown",
   "metadata": {},
   "source": [
    "[Contenido](#Contenido)"
   ]
  },
  {
   "cell_type": "markdown",
   "metadata": {},
   "source": [
    "## Ejemplo 1"
   ]
  },
  {
   "cell_type": "markdown",
   "metadata": {},
   "source": [
    "[Contenido](#Contenido)"
   ]
  },
  {
   "cell_type": "code",
   "execution_count": 2,
   "metadata": {
    "collapsed": true
   },
   "outputs": [],
   "source": [
    "library(lpSolveAPI)  # solo se requiere una vez en cada sesión"
   ]
  },
  {
   "cell_type": "markdown",
   "metadata": {},
   "source": [
    "$$\\text{max} ~ 0.3 x_1 + x_2$$"
   ]
  },
  {
   "cell_type": "markdown",
   "metadata": {},
   "source": [
    "Sujeto a:"
   ]
  },
  {
   "cell_type": "markdown",
   "metadata": {},
   "source": [
    "$$x_1 + x_2 <= 2$$\n",
    "$$-x_1 + x_2 <= 1$$\n",
    "$$x_1, x_2 >= 0$$"
   ]
  },
  {
   "cell_type": "code",
   "execution_count": 3,
   "metadata": {
    "collapsed": true
   },
   "outputs": [],
   "source": [
    "m <- make.lp(nrow = 0, ncol = 2)        # número de filas y columnas de las restricciones\n",
    "                                        # se crean 0 restricciones (nrow = 0), y se adicionan\n",
    "                                        # via la función add.constraint()\n",
    "\n",
    "# función objetivo: min -0.3 x1 - x2\n",
    "set.objfn(m, c(-0.3, -1))         \n",
    "\n",
    "# restricción 1:  x1 + x2 <= 2\n",
    "add.constraint(m, c( 1, 1), \"<=\", 2)    \n",
    "\n",
    "# restricción 2: −x1 + x2 <= 1\n",
    "add.constraint(m, c(-1, 1), \"<=\", 1)    \n",
    "\n",
    "RowNames <- c(\"R1\", \"R2\")               # nombres de restricciones\n",
    "ColNames <- c(\"x1\", \"x2\")               # nombres de variables\n",
    "dimnames(m) <- list(RowNames, ColNames) # asignación de nombres al modelo"
   ]
  },
  {
   "cell_type": "markdown",
   "metadata": {},
   "source": [
    "Visualización del modelo:"
   ]
  },
  {
   "cell_type": "code",
   "execution_count": 4,
   "metadata": {
    "collapsed": false
   },
   "outputs": [
    {
     "data": {
      "text/plain": [
       "Model name: \n",
       "            x1    x2       \n",
       "Minimize  -0.3    -1       \n",
       "R1           1     1  <=  2\n",
       "R2          -1     1  <=  1\n",
       "Kind       Std   Std       \n",
       "Type      Real  Real       \n",
       "Upper      Inf   Inf       \n",
       "Lower        0     0       "
      ]
     },
     "metadata": {},
     "output_type": "display_data"
    }
   ],
   "source": [
    "m"
   ]
  },
  {
   "cell_type": "code",
   "execution_count": 5,
   "metadata": {
    "collapsed": false
   },
   "outputs": [
    {
     "data": {
      "text/html": [
       "0"
      ],
      "text/latex": [
       "0"
      ],
      "text/markdown": [
       "0"
      ],
      "text/plain": [
       "[1] 0"
      ]
     },
     "metadata": {},
     "output_type": "display_data"
    }
   ],
   "source": [
    "# Llama el solver.\n",
    "# La función devuelve un código de status:\n",
    "#   0:   \"optimal solution found\"\n",
    "#   1:   \"the model is sub-optimal\"\n",
    "#   2:   \"the model is infeasible\"\n",
    "#   3:   \"the model is unbounded\"\n",
    "#   4:   \"the model is degenerate\"\n",
    "#   5:   \"numerical failure encountered\"\n",
    "#   6:   \"process aborted\"\n",
    "#   7:   \"timeout\"\n",
    "#   9:   \"the model was solved by presolve\"\n",
    "#   10:  \"the branch and bound routine failed\"\n",
    "#   11:  \"the branch and bound was stopped because of a break-at-first or break-at-value\"\n",
    "#   12:  \"a feasible branch and bound solution was found\"\n",
    "#   13:  \"no feasible branch and bound solution was found\"\n",
    "solve(m)"
   ]
  },
  {
   "cell_type": "code",
   "execution_count": 6,
   "metadata": {
    "collapsed": false
   },
   "outputs": [
    {
     "data": {
      "text/html": [
       "-1.65"
      ],
      "text/latex": [
       "-1.65"
      ],
      "text/markdown": [
       "-1.65"
      ],
      "text/plain": [
       "[1] -1.65"
      ]
     },
     "metadata": {},
     "output_type": "display_data"
    }
   ],
   "source": [
    "get.objective(m)     # valor de la función objetivo"
   ]
  },
  {
   "cell_type": "code",
   "execution_count": 7,
   "metadata": {
    "collapsed": false
   },
   "outputs": [
    {
     "data": {
      "text/html": [
       "<ol class=list-inline>\n",
       "\t<li>0.5</li>\n",
       "\t<li>1.5</li>\n",
       "</ol>\n"
      ],
      "text/latex": [
       "\\begin{enumerate*}\n",
       "\\item 0.5\n",
       "\\item 1.5\n",
       "\\end{enumerate*}\n"
      ],
      "text/markdown": [
       "1. 0.5\n",
       "2. 1.5\n",
       "\n",
       "\n"
      ],
      "text/plain": [
       "[1] 0.5 1.5"
      ]
     },
     "metadata": {},
     "output_type": "display_data"
    }
   ],
   "source": [
    "get.variables(m)    # valores óptimos de las variables"
   ]
  },
  {
   "cell_type": "code",
   "execution_count": 8,
   "metadata": {
    "collapsed": false
   },
   "outputs": [
    {
     "data": {
      "text/html": [
       "<ol class=list-inline>\n",
       "\t<li>2</li>\n",
       "\t<li>1</li>\n",
       "</ol>\n"
      ],
      "text/latex": [
       "\\begin{enumerate*}\n",
       "\\item 2\n",
       "\\item 1\n",
       "\\end{enumerate*}\n"
      ],
      "text/markdown": [
       "1. 2\n",
       "2. 1\n",
       "\n",
       "\n"
      ],
      "text/plain": [
       "[1] 2 1"
      ]
     },
     "metadata": {},
     "output_type": "display_data"
    }
   ],
   "source": [
    "get.constraints(m)  # valores de las restricciones"
   ]
  },
  {
   "cell_type": "markdown",
   "metadata": {},
   "source": [
    "## Ejemplo 2"
   ]
  },
  {
   "cell_type": "markdown",
   "metadata": {},
   "source": [
    "[Contenido](#Contenido)"
   ]
  },
  {
   "cell_type": "markdown",
   "metadata": {},
   "source": [
    "Este problema de optimización incorpora cotas en las variables (dos últimas restricciones)."
   ]
  },
  {
   "cell_type": "markdown",
   "metadata": {},
   "source": [
    "Función objetivo:  \n",
    "$$\\text{minimize } x_1 + 3~x_2 + 6.24~x_3 + 0.1~x_4$$  \n",
    "Sujeto a:  \n",
    "$$78.26~x_2 + 2.9~x_4 >= 92.3$$  \n",
    "$$ 0.24~x_1 + 11.31~x_3 <= 14.8$$  \n",
    "$$ 12.68~x_1 + 0.08~x_3 + 0.9~\n",
    "x_4 >= 4$$  \n",
    "$$ 18 <= x_4 <= 48.98$$  \n",
    "$$ x_1 >= 28.6$$  "
   ]
  },
  {
   "cell_type": "code",
   "execution_count": 9,
   "metadata": {
    "collapsed": true
   },
   "outputs": [],
   "source": [
    "# modelo\n",
    "m <- make.lp(0, 4)\n",
    "\n",
    "# función objetivo: min x1 + 3 x2 + 6.24 x3 + 0.1 x4\n",
    "set.objfn(m, c(1, 3, 6.24, 0.1))\n",
    "\n",
    "# restricción 1: 78.26 x2 + 2.9 x4 >= 92.3\n",
    "add.constraint(m, c(0, 78.26, 0, 2.9), \">=\", 92.3)\n",
    "\n",
    "# restricción 2: 0.24 x1 + 11.31 x3 <= 14.8\n",
    "add.constraint(m, c(0.24, 0, 11.31, 0), \"<=\", 14.8)\n",
    "\n",
    "# restricción 3: 12.68 x1 + 0.08 x3 + 0.9 x4 >= 4\n",
    "add.constraint(m, c(12.68, 0, 0.08, 0.9), \">=\", 4)\n",
    "\n",
    "# límites inferiores para las variables (diferentes de cero)\n",
    "# 28.6 <= x1\n",
    "# 18 <= x4\n",
    "set.bounds(m, lower = c(28.6, 18), columns = c(1, 4))\n",
    "\n",
    "# límites superiores para las variables (diferentes de infinito)\n",
    "set.bounds(m, upper = 48.98, columns = 4)\n",
    "\n",
    "# nombres de las filas y las columnas\n",
    "RowNames <- c(\"R1\", \"R2\", \"R3\")\n",
    "ColNames <- c(\"x1\", \"x2\", \"x3\", \"x4\")\n",
    "dimnames(m) <- list(RowNames, ColNames)"
   ]
  },
  {
   "cell_type": "code",
   "execution_count": 10,
   "metadata": {
    "collapsed": false
   },
   "outputs": [
    {
     "data": {
      "text/plain": [
       "Model name: \n",
       "             x1     x2     x3     x4          \n",
       "Minimize      1      3   6.24    0.1          \n",
       "R1            0  78.26      0    2.9  >=  92.3\n",
       "R2         0.24      0  11.31      0  <=  14.8\n",
       "R3        12.68      0   0.08    0.9  >=     4\n",
       "Kind        Std    Std    Std    Std          \n",
       "Type       Real   Real   Real   Real          \n",
       "Upper       Inf    Inf    Inf  48.98          \n",
       "Lower      28.6      0      0     18          "
      ]
     },
     "metadata": {},
     "output_type": "display_data"
    }
   ],
   "source": [
    "# visualización del modelo\n",
    "m"
   ]
  },
  {
   "cell_type": "code",
   "execution_count": 11,
   "metadata": {
    "collapsed": false
   },
   "outputs": [
    {
     "data": {
      "text/html": [
       "0"
      ],
      "text/latex": [
       "0"
      ],
      "text/markdown": [
       "0"
      ],
      "text/plain": [
       "[1] 0"
      ]
     },
     "metadata": {},
     "output_type": "display_data"
    }
   ],
   "source": [
    "# solución\n",
    "solve(m)   # 0:- \"optimal solution found\""
   ]
  },
  {
   "cell_type": "code",
   "execution_count": 12,
   "metadata": {
    "collapsed": false
   },
   "outputs": [
    {
     "data": {
      "text/html": [
       "31.7827586206897"
      ],
      "text/latex": [
       "31.7827586206897"
      ],
      "text/markdown": [
       "31.7827586206897"
      ],
      "text/plain": [
       "[1] 31.78276"
      ]
     },
     "metadata": {},
     "output_type": "display_data"
    }
   ],
   "source": [
    "# valor de la función objetivo en el óptimo\n",
    "get.objective(m)"
   ]
  },
  {
   "cell_type": "code",
   "execution_count": 13,
   "metadata": {
    "collapsed": false
   },
   "outputs": [
    {
     "data": {
      "text/html": [
       "<ol class=list-inline>\n",
       "\t<li>28.6</li>\n",
       "\t<li>0</li>\n",
       "\t<li>0</li>\n",
       "\t<li>31.8275862068966</li>\n",
       "</ol>\n"
      ],
      "text/latex": [
       "\\begin{enumerate*}\n",
       "\\item 28.6\n",
       "\\item 0\n",
       "\\item 0\n",
       "\\item 31.8275862068966\n",
       "\\end{enumerate*}\n"
      ],
      "text/markdown": [
       "1. 28.6\n",
       "2. 0\n",
       "3. 0\n",
       "4. 31.8275862068966\n",
       "\n",
       "\n"
      ],
      "text/plain": [
       "[1] 28.60000  0.00000  0.00000 31.82759"
      ]
     },
     "metadata": {},
     "output_type": "display_data"
    }
   ],
   "source": [
    "get.variables(m)"
   ]
  },
  {
   "cell_type": "code",
   "execution_count": 14,
   "metadata": {
    "collapsed": false
   },
   "outputs": [
    {
     "data": {
      "text/html": [
       "<ol class=list-inline>\n",
       "\t<li>92.3</li>\n",
       "\t<li>6.864</li>\n",
       "\t<li>391.292827586207</li>\n",
       "</ol>\n"
      ],
      "text/latex": [
       "\\begin{enumerate*}\n",
       "\\item 92.3\n",
       "\\item 6.864\n",
       "\\item 391.292827586207\n",
       "\\end{enumerate*}\n"
      ],
      "text/markdown": [
       "1. 92.3\n",
       "2. 6.864\n",
       "3. 391.292827586207\n",
       "\n",
       "\n"
      ],
      "text/plain": [
       "[1]  92.3000   6.8640 391.2928"
      ]
     },
     "metadata": {},
     "output_type": "display_data"
    }
   ],
   "source": [
    "# valores de las restricciones para la solución óptima\n",
    "get.constraints(m)"
   ]
  },
  {
   "cell_type": "markdown",
   "metadata": {},
   "source": [
    "**Ejercicio.--** Solucione los siguientes modelos de programación lineal."
   ]
  },
  {
   "cell_type": "markdown",
   "metadata": {},
   "source": [
    "**Problema 1**"
   ]
  },
  {
   "cell_type": "markdown",
   "metadata": {},
   "source": [
    "Función objetivo:  \n",
    "$$\\text{maximize } 2~x_1 + 3~x_2$$  \n",
    "Sujeto a:  \n",
    "$$x_1 + 2~x_2 <= 6$$  \n",
    "$$2~x_1 + x_2 <= 8$$  \n",
    "$$ x_1 >= 8$$  \n",
    "$$x_1, x_2 >= 0$$"
   ]
  },
  {
   "cell_type": "code",
   "execution_count": 15,
   "metadata": {
    "collapsed": true
   },
   "outputs": [],
   "source": [
    "#\n",
    "# escriba su código aquí\n",
    "#"
   ]
  },
  {
   "cell_type": "markdown",
   "metadata": {},
   "source": [
    "**Problema 2**"
   ]
  },
  {
   "cell_type": "markdown",
   "metadata": {},
   "source": [
    "Función objetivo:  \n",
    "$$\\text{maximize } 3~x_1 + 5~x_2$$  \n",
    "Sujeto a:  \n",
    "$$x_1  >= 5$$  \n",
    "$$x_2 <= 10$$  \n",
    "$$ x_1 + 2~x_2 >= 10$$  \n",
    "$$x_1, x_2 >= 0$$"
   ]
  },
  {
   "cell_type": "code",
   "execution_count": 16,
   "metadata": {
    "collapsed": true
   },
   "outputs": [],
   "source": [
    "#\n",
    "# escriba su código aquí\n",
    "#"
   ]
  },
  {
   "cell_type": "markdown",
   "metadata": {},
   "source": [
    "**Problema 3**"
   ]
  },
  {
   "cell_type": "markdown",
   "metadata": {},
   "source": [
    "Función objetivo:  \n",
    "$$\\text{maximize } 40~x_1 + 60~x_2$$  \n",
    "Sujeto a:  \n",
    "$$2x_1 + x_2  <= 70$$  \n",
    "$$x_1 + x_2 <= 40$$  \n",
    "$$ x_1 + 3~x_2 <= 90$$  \n",
    "$$x_1, x_2 >= 0$$"
   ]
  },
  {
   "cell_type": "code",
   "execution_count": 17,
   "metadata": {
    "collapsed": true
   },
   "outputs": [],
   "source": [
    "#\n",
    "# escriba su código aquí\n",
    "#"
   ]
  },
  {
   "cell_type": "markdown",
   "metadata": {},
   "source": [
    "**Problema 4**"
   ]
  },
  {
   "cell_type": "markdown",
   "metadata": {},
   "source": [
    "Función objetivo:  \n",
    "$$\\text{maximize } 3~x_1 + 2~x_2$$  \n",
    "Sujeto a:  \n",
    "$$6~x_1 + 4~ x_2  <= 70$$  \n",
    "$$ x_1 <= 3$$  \n",
    "$$x_1, x_2 >= 0$$"
   ]
  },
  {
   "cell_type": "code",
   "execution_count": 18,
   "metadata": {
    "collapsed": true
   },
   "outputs": [],
   "source": [
    "#\n",
    "# escriba su código aquí\n",
    "#"
   ]
  },
  {
   "cell_type": "markdown",
   "metadata": {},
   "source": [
    "---"
   ]
  },
  {
   "cell_type": "markdown",
   "metadata": {},
   "source": [
    "[Contenido](#Contenido)"
   ]
  },
  {
   "cell_type": "markdown",
   "metadata": {},
   "source": [
    "<a rel=\"license\" href=\"http://creativecommons.org/licenses/by-nc-nd/4.0/\"><img alt=\"Licencia de Creative Commons\" style=\"border-width:0\" src=\"https://i.creativecommons.org/l/by-nc-nd/4.0/88x31.png\" /></a><br />Este obra está bajo una <a rel=\"license\" href=\"http://creativecommons.org/licenses/by-nc-nd/4.0/\">licencia de Creative Commons Reconocimiento-NoComercial-SinObraDerivada 4.0 Internacional</a>."
   ]
  }
 ],
 "metadata": {
  "kernelspec": {
   "display_name": "R",
   "language": "R",
   "name": "ir"
  },
  "language_info": {
   "codemirror_mode": "r",
   "file_extension": ".r",
   "mimetype": "text/x-r-source",
   "name": "R",
   "pygments_lexer": "r",
   "version": "3.3.0"
  }
 },
 "nbformat": 4,
 "nbformat_minor": 0
}
