{
 "cells": [
  {
   "cell_type": "markdown",
   "metadata": {},
   "source": [
    "# Modelo de planificación centralizada usando R\n",
    "Notas de clase sobre la planificación centralizada de mercados eléctricos"
   ]
  },
  {
   "cell_type": "markdown",
   "metadata": {},
   "source": [
    "**Juan David Velásquez Henao**   \n",
    "jdvelasq@unal.edu.co  \n",
    "Universidad Nacional de Colombia, Sede Medellín  \n",
    "Facultad de Minas  \n",
    "Medellín, Colombia  \n",
    "\n",
    "[Licencia](https://github.com/jdvelasq/ETVL-R/blob/master/LICENCIA.txt)  \n",
    "[Readme](https://github.com/jdvelasq/ETVL-R/blob/master/Readme.md)"
   ]
  },
  {
   "cell_type": "markdown",
   "metadata": {},
   "source": [
    "**Software utilizado**.\n",
    "\n",
    "> Este es un documento interactivo escrito como un notebook de [Jupyter](http://jupyter.org), en el cual se presenta un tutorial sobre la extracción, transformación, visualización y carga de datos usando **R** en el contexto de la ciencia de los datos. Los notebooks de Jupyter permiten incoporar simultáneamente código, texto, gráficos y ecuaciones. El código presentado en este notebook puede ejecutarse en los sistemas operativos Linux y OS X.\n",
    "\n",
    "> Haga click [aquí](https://github.com/jdvelasq/guias-de-instalacion) para obtener instrucciones detalladas sobre como instalar Jupyter en Windows y Mac OS X.\n",
    "\n",
    "> Haga clic [aquí](http://nbviewer.jupyter.org/github/jdvelasq/metodos-y-modelos/blob/master/02-05-actividad-modelo-PL-embalses-R.ipynb) para ver la última versión de este documento en nbviewer.\n",
    "\n",
    "> Descargue la última versión de este documento a su disco duro; luego, carguelo y ejecutelo en línea en [Try Jupyter!](https://try.jupyter.org)\n"
   ]
  },
  {
   "cell_type": "markdown",
   "metadata": {},
   "source": [
    "#### Contenido"
   ]
  },
  {
   "cell_type": "markdown",
   "metadata": {},
   "source": [
    "> * [Introducción](#Introducción)\n",
    "* [Planteamiento del problema](#Planteamiento-del-problema)\n",
    "* [Formulación del modelo de PL](#Formulación-del-modelo-de-PL)\n",
    "    * [Definición de variables](#Definición-de-variables)\n",
    "    * [Tamaño del problema](#Tamaño-del-problema)\n",
    "    * [Función objetivo](#Función-objetivo)\n",
    "    * [Restricciones de demanda](#Restricciones-de-demanda)\n",
    "    * [Continuidad de los volumenes de los embalses](#Continuidad-de-los-volumenes-de-los-embalses)\n",
    "    * [Generación máxima](#Generación-máxima)\n",
    "    * [Volumen máximo](#Volumen-máximo)\n",
    "* [Solucion](#Solucion)"
   ]
  },
  {
   "cell_type": "code",
   "execution_count": 78,
   "metadata": {
    "collapsed": false
   },
   "outputs": [],
   "source": [
    "printvec <- function(w) {\n",
    "    \n",
    "    m <- w[w != 0]\n",
    "    n <- names(m)\n",
    "    \n",
    "    for(i in 1:length(m)) {\n",
    "        \n",
    "        cat(m[i], ' * ', n[i], sep='', end='\\n' )\n",
    "            \n",
    "    }\n",
    "    cat('')\n",
    "}"
   ]
  },
  {
   "cell_type": "markdown",
   "metadata": {},
   "source": [
    "# Introducción"
   ]
  },
  {
   "cell_type": "markdown",
   "metadata": {},
   "source": [
    "[Contenido](#Contenido)"
   ]
  },
  {
   "cell_type": "markdown",
   "metadata": {},
   "source": [
    "En este documento se ejemplifica el desarrollo de un modelo parametrizado para la planificación de la operación de un sistema hidrotérmico usando programación lineal. Aunque se está utilizando el lenguaje R, el plantemiento presentado es similar a como se realizaría en otras herramientas especializadas en este tipo de problemas, tal como GAMS o AMPL."
   ]
  },
  {
   "cell_type": "markdown",
   "metadata": {},
   "source": [
    "# Planteamiento del problema"
   ]
  },
  {
   "cell_type": "markdown",
   "metadata": {},
   "source": [
    "[Contenido](#Contenido)"
   ]
  },
  {
   "cell_type": "markdown",
   "metadata": {},
   "source": [
    "Se desea realizar el planeamiento de la operación de un sistema hidrotérmico conformado por una planta hidráulica y otra térmica. Usualmente, siempre hay mas de una planta térmica y una hidráulica por lo que la información siempre se almacena en tablas (data.frames). La información es la siguiente:"
   ]
  },
  {
   "cell_type": "code",
   "execution_count": 79,
   "metadata": {
    "collapsed": true
   },
   "outputs": [],
   "source": [
    "P = 16  ## Periodo de planificación en trimestres"
   ]
  },
  {
   "cell_type": "code",
   "execution_count": 80,
   "metadata": {
    "collapsed": false
   },
   "outputs": [
    {
     "name": "stdout",
     "output_type": "stream",
     "text": [
      "  Vo Vf Vmax Qmax rho\n",
      "1 70 70  100   30   1\n"
     ]
    }
   ],
   "source": [
    "## Plantas hidráulicas.\n",
    "##   hay un registro por cada planta hidro\n",
    "hidros <- data.frame( Vo   = c( 70),   ## Volumen inicial al principio del periodo de la planificación\n",
    "                      Vf   = c( 70),   ## Volumen final al terminar el periodo de planificación\n",
    "                      Vmax = c(100),   ## Volumen máximo\n",
    "                      Qmax = c( 30),   ## Energía máxima generada\n",
    "                      rho  = c(  1),   ## Factor de conversión\n",
    "                      stringsAsFactors = False)  \n",
    "\n",
    "\n",
    "hidros <- read.csv('hidro.csv', stringsAsFactors = FALSE)\n",
    "\n",
    "H = nrow(hidros)  ## cantidad de plantas hidraulicas\n",
    "\n",
    "print(hidros)"
   ]
  },
  {
   "cell_type": "code",
   "execution_count": 81,
   "metadata": {
    "collapsed": false
   },
   "outputs": [
    {
     "name": "stdout",
     "output_type": "stream",
     "text": [
      "   planta  t aportes\n",
      "1       1  1      28\n",
      "2       1  2      22\n",
      "3       1  3      19\n",
      "4       1  4      25\n",
      "5       1  5      21\n",
      "6       1  6      16\n",
      "7       1  7      18\n",
      "8       1  8      23\n",
      "9       1  9      27\n",
      "10      1 10      22\n",
      "11      1 11      23\n",
      "12      1 12      33\n",
      "13      1 13      26\n",
      "14      1 14      19\n",
      "15      1 15      22\n",
      "16      1 16      27\n"
     ]
    }
   ],
   "source": [
    "aportes <- data.frame( planta  = rep(1, 16),\n",
    "                       t       = 1:16,\n",
    "                       aportes = c( 28, 22, 19, 25,  # Aportes hidrológicos\n",
    "                                    21, 16, 18, 23,\n",
    "                                    27, 22, 23, 33,\n",
    "                                    26, 19, 22, 27),\n",
    "                       stringsAsFactors = False)\n",
    "\n",
    "print(aportes)"
   ]
  },
  {
   "cell_type": "code",
   "execution_count": 82,
   "metadata": {
    "collapsed": false
   },
   "outputs": [
    {
     "name": "stdout",
     "output_type": "stream",
     "text": [
      "  GTmax CC\n",
      "1    31 15\n"
     ]
    }
   ],
   "source": [
    "## Plantas térmicas.\n",
    "##   hay un registro por cada planta térmica.\n",
    "termos <- data.frame( GTmax = c(31),  # Generación máxima\n",
    "                      CC    = c(15),  # Costo de combustible\n",
    "                      stringsAsFactors = False)\n",
    "\n",
    "T <- nrow(termos)  ## cantidad de plantas térmicas\n",
    "\n",
    "print(termos)"
   ]
  },
  {
   "cell_type": "code",
   "execution_count": 83,
   "metadata": {
    "collapsed": true
   },
   "outputs": [],
   "source": [
    "## Costo de racionamiento: \n",
    "CR <- 1000 # para todas las etapas."
   ]
  },
  {
   "cell_type": "code",
   "execution_count": 84,
   "metadata": {
    "collapsed": true
   },
   "outputs": [],
   "source": [
    "##  Demanda por trimestre: \n",
    "dem <- c( 50, 50, 50, 50,  # año 1\n",
    "          60, 60, 60, 60,  # año 2\n",
    "          70, 70, 70, 70,  # año 3\n",
    "          80, 80, 80, 80)  # año 4"
   ]
  },
  {
   "cell_type": "markdown",
   "metadata": {},
   "source": [
    "# Formulación del modelo de PL"
   ]
  },
  {
   "cell_type": "markdown",
   "metadata": {},
   "source": [
    "[Contenido](#Contenido)"
   ]
  },
  {
   "cell_type": "code",
   "execution_count": 85,
   "metadata": {
    "collapsed": true
   },
   "outputs": [],
   "source": [
    "## carga de la libreria\n",
    "library(lpSolveAPI)"
   ]
  },
  {
   "cell_type": "markdown",
   "metadata": {},
   "source": [
    "## Definición de variables"
   ]
  },
  {
   "cell_type": "markdown",
   "metadata": {},
   "source": [
    "[Contenido](#Contenido)"
   ]
  },
  {
   "cell_type": "markdown",
   "metadata": {},
   "source": [
    "Se crean los nombres de las variables del problema para facilitar su manejo."
   ]
  },
  {
   "cell_type": "code",
   "execution_count": 88,
   "metadata": {
    "collapsed": true
   },
   "outputs": [],
   "source": [
    "nombres <- c()"
   ]
  },
  {
   "cell_type": "code",
   "execution_count": 89,
   "metadata": {
    "collapsed": true
   },
   "outputs": [],
   "source": [
    "create.matrix <- function(prefix, n, m) {\n",
    "    x <- matrix('', n, m)\n",
    "    for(i in 1:n) \n",
    "        for(j in 1:m)\n",
    "            x[i,j] <- paste(prefix, '[', i, ',', j, ']', sep='')\n",
    "\n",
    "    return(x)\n",
    "}"
   ]
  },
  {
   "cell_type": "code",
   "execution_count": 90,
   "metadata": {
    "collapsed": true
   },
   "outputs": [],
   "source": [
    "create.vector <- function(prefix, n) {\n",
    "    x <- rep('', n)\n",
    "    for(i in 1:n)\n",
    "        x[i] <- paste(prefix, '[', i, ']', sep = '')\n",
    "    return(x)\n",
    "}"
   ]
  },
  {
   "cell_type": "code",
   "execution_count": 91,
   "metadata": {
    "collapsed": false
   },
   "outputs": [],
   "source": [
    "## plantas térmicas\n",
    "\n",
    "var.gt <- create.matrix('gt',          # generacion termica \n",
    "                        nrow(termos),  # numero de plantas termicas\n",
    "                        P)             # numero de periodos"
   ]
  },
  {
   "cell_type": "code",
   "execution_count": 92,
   "metadata": {
    "collapsed": false
   },
   "outputs": [],
   "source": [
    "## plantas hidraulicas\n",
    "var.vol <- create.matrix( 'vol',          # volumen almacenado\n",
    "                           nrow(hidros),  # número de plantas hidraulicas\n",
    "                           P)             # número de periodos\n",
    "\n",
    "var.q   <- create.matrix( 'q',            # volumen turbinado\n",
    "                           nrow(hidros),\n",
    "                           P)\n",
    "\n",
    "var.ver <- create.matrix( 'ver',          # volumen vertido\n",
    "                           nrow(hidros),\n",
    "                           P)"
   ]
  },
  {
   "cell_type": "code",
   "execution_count": 93,
   "metadata": {
    "collapsed": false
   },
   "outputs": [],
   "source": [
    "## deficit\n",
    "\n",
    "#\n",
    "# genere los nombres de la variable de racionamiento\n",
    "#\n",
    "var.def <- create.vector('def', P)"
   ]
  },
  {
   "cell_type": "code",
   "execution_count": 94,
   "metadata": {
    "collapsed": false
   },
   "outputs": [
    {
     "name": "stdout",
     "output_type": "stream",
     "text": [
      " [1] \"gt[1,1]\"   \"gt[1,2]\"   \"gt[1,3]\"   \"gt[1,4]\"   \"gt[1,5]\"   \"gt[1,6]\"  \n",
      " [7] \"gt[1,7]\"   \"gt[1,8]\"   \"gt[1,9]\"   \"gt[1,10]\"  \"gt[1,11]\"  \"gt[1,12]\" \n",
      "[13] \"gt[1,13]\"  \"gt[1,14]\"  \"gt[1,15]\"  \"gt[1,16]\"  \"vol[1,1]\"  \"vol[1,2]\" \n",
      "[19] \"vol[1,3]\"  \"vol[1,4]\"  \"vol[1,5]\"  \"vol[1,6]\"  \"vol[1,7]\"  \"vol[1,8]\" \n",
      "[25] \"vol[1,9]\"  \"vol[1,10]\" \"vol[1,11]\" \"vol[1,12]\" \"vol[1,13]\" \"vol[1,14]\"\n",
      "[31] \"vol[1,15]\" \"vol[1,16]\" \"q[1,1]\"    \"q[1,2]\"    \"q[1,3]\"    \"q[1,4]\"   \n",
      "[37] \"q[1,5]\"    \"q[1,6]\"    \"q[1,7]\"    \"q[1,8]\"    \"q[1,9]\"    \"q[1,10]\"  \n",
      "[43] \"q[1,11]\"   \"q[1,12]\"   \"q[1,13]\"   \"q[1,14]\"   \"q[1,15]\"   \"q[1,16]\"  \n",
      "[49] \"ver[1,1]\"  \"ver[1,2]\"  \"ver[1,3]\"  \"ver[1,4]\"  \"ver[1,5]\"  \"ver[1,6]\" \n",
      "[55] \"ver[1,7]\"  \"ver[1,8]\"  \"ver[1,9]\"  \"ver[1,10]\" \"ver[1,11]\" \"ver[1,12]\"\n",
      "[61] \"ver[1,13]\" \"ver[1,14]\" \"ver[1,15]\" \"ver[1,16]\" \"def[1]\"    \"def[2]\"   \n",
      "[67] \"def[3]\"    \"def[4]\"    \"def[5]\"    \"def[6]\"    \"def[7]\"    \"def[8]\"   \n",
      "[73] \"def[9]\"    \"def[10]\"   \"def[11]\"   \"def[12]\"   \"def[13]\"   \"def[14]\"  \n",
      "[79] \"def[15]\"   \"def[16]\"  \n"
     ]
    }
   ],
   "source": [
    "## crea un solo vector con los nombres todas las variables\n",
    "var.names <- c(c(var.gt), c(var.vol), c(var.q), c(var.ver), var.def)\n",
    "print(var.names)\n"
   ]
  },
  {
   "cell_type": "markdown",
   "metadata": {},
   "source": [
    "## Tamaño del problema"
   ]
  },
  {
   "cell_type": "markdown",
   "metadata": {},
   "source": [
    "[Contenido](#Contenido)"
   ]
  },
  {
   "cell_type": "code",
   "execution_count": 109,
   "metadata": {
    "collapsed": true
   },
   "outputs": [],
   "source": [
    "N = length(var.names)"
   ]
  },
  {
   "cell_type": "code",
   "execution_count": 110,
   "metadata": {
    "collapsed": true
   },
   "outputs": [],
   "source": [
    "m <- make.lp(nrow = 0, ncol = N) "
   ]
  },
  {
   "cell_type": "code",
   "execution_count": 1,
   "metadata": {
    "collapsed": false
   },
   "outputs": [
    {
     "ename": "ERROR",
     "evalue": "Error in eval(expr, envir, enclos): object 'N' not found\n",
     "output_type": "error",
     "traceback": [
      "Error in eval(expr, envir, enclos): object 'N' not found\nTraceback:\n"
     ]
    }
   ],
   "source": [
    "w <- rep(0, N)\n",
    "names(w) <- var.names"
   ]
  },
  {
   "cell_type": "markdown",
   "metadata": {},
   "source": [
    "## Función objetivo"
   ]
  },
  {
   "cell_type": "markdown",
   "metadata": {},
   "source": [
    "[Contenido](#Contenido)"
   ]
  },
  {
   "cell_type": "markdown",
   "metadata": {},
   "source": [
    "En esta porción de código se ejemplifica la construcción de la función objetivo usando las tablas definidas anteriormente. Recuerde que se desea minimizar el costo total del racionamiento más el costo total de la generación térmica:"
   ]
  },
  {
   "cell_type": "markdown",
   "metadata": {},
   "source": [
    "$$\\text{minimize} ~ \\sum_{p=1}^{P} ~\\Bigg\\{ CR * DEF_p + \\sum_{t=1}^T CC_t * GT_{p,t} ~\\Bigg\\}$$"
   ]
  },
  {
   "cell_type": "code",
   "execution_count": 95,
   "metadata": {
    "collapsed": false
   },
   "outputs": [
    {
     "name": "stdout",
     "output_type": "stream",
     "text": [
      "15 * gt[1,1]\n",
      "15 * gt[1,2]\n",
      "15 * gt[1,3]\n",
      "15 * gt[1,4]\n",
      "15 * gt[1,5]\n",
      "15 * gt[1,6]\n",
      "15 * gt[1,7]\n",
      "15 * gt[1,8]\n",
      "15 * gt[1,9]\n",
      "15 * gt[1,10]\n",
      "15 * gt[1,11]\n",
      "15 * gt[1,12]\n",
      "15 * gt[1,13]\n",
      "15 * gt[1,14]\n",
      "15 * gt[1,15]\n",
      "15 * gt[1,16]\n",
      "1000 * def[1]\n",
      "1000 * def[2]\n",
      "1000 * def[3]\n",
      "1000 * def[4]\n",
      "1000 * def[5]\n",
      "1000 * def[6]\n",
      "1000 * def[7]\n",
      "1000 * def[8]\n",
      "1000 * def[9]\n",
      "1000 * def[10]\n",
      "1000 * def[11]\n",
      "1000 * def[12]\n",
      "1000 * def[13]\n",
      "1000 * def[14]\n",
      "1000 * def[15]\n",
      "1000 * def[16]\n"
     ]
    }
   ],
   "source": [
    "w[] = 0  ## hace cero todos los coeficientes\n",
    "\n",
    "## deficit\n",
    "for(i in var.def) w[i] <- CR\n",
    "\n",
    "## generación termica\n",
    "for(t in 1:T)\n",
    "    w[var.gt[t,]] <- termos$CC[t]  \n",
    "\n",
    "printvec(w)"
   ]
  },
  {
   "cell_type": "code",
   "execution_count": 96,
   "metadata": {
    "collapsed": false
   },
   "outputs": [],
   "source": [
    "## función objetivo\n",
    "set.objfn(m, w)"
   ]
  },
  {
   "cell_type": "markdown",
   "metadata": {},
   "source": [
    "## Restricciones de demanda"
   ]
  },
  {
   "cell_type": "markdown",
   "metadata": {},
   "source": [
    "[Contenido](#Contenido)"
   ]
  },
  {
   "cell_type": "markdown",
   "metadata": {},
   "source": [
    "Por cada periodo de tiempo $p$ debe cumplirse que:"
   ]
  },
  {
   "cell_type": "markdown",
   "metadata": {},
   "source": [
    "$$ DEF_p + \\Bigg\\{ \\sum_{h=1}^H \\rho_h * Q_{hp} \\Bigg\\} + \\Bigg\\{ \\sum_{t=1}^T GT_{t p} \\Bigg\\} = dem_p$$"
   ]
  },
  {
   "cell_type": "code",
   "execution_count": 97,
   "metadata": {
    "collapsed": false,
    "scrolled": false
   },
   "outputs": [
    {
     "name": "stdout",
     "output_type": "stream",
     "text": [
      "1 * gt[1,1]\n",
      "1 * q[1,1]\n",
      "1 * def[1]\n",
      "=\n",
      "50\n",
      "\n",
      "1 * gt[1,2]\n",
      "1 * q[1,2]\n",
      "1 * def[2]\n",
      "=\n",
      "50\n",
      "\n",
      "1 * gt[1,3]\n",
      "1 * q[1,3]\n",
      "1 * def[3]\n",
      "=\n",
      "50\n",
      "\n",
      "1 * gt[1,4]\n",
      "1 * q[1,4]\n",
      "1 * def[4]\n",
      "=\n",
      "50\n",
      "\n",
      "1 * gt[1,5]\n",
      "1 * q[1,5]\n",
      "1 * def[5]\n",
      "=\n",
      "60\n",
      "\n",
      "1 * gt[1,6]\n",
      "1 * q[1,6]\n",
      "1 * def[6]\n",
      "=\n",
      "60\n",
      "\n",
      "1 * gt[1,7]\n",
      "1 * q[1,7]\n",
      "1 * def[7]\n",
      "=\n",
      "60\n",
      "\n",
      "1 * gt[1,8]\n",
      "1 * q[1,8]\n",
      "1 * def[8]\n",
      "=\n",
      "60\n",
      "\n",
      "1 * gt[1,9]\n",
      "1 * q[1,9]\n",
      "1 * def[9]\n",
      "=\n",
      "70\n",
      "\n",
      "1 * gt[1,10]\n",
      "1 * q[1,10]\n",
      "1 * def[10]\n",
      "=\n",
      "70\n",
      "\n",
      "1 * gt[1,11]\n",
      "1 * q[1,11]\n",
      "1 * def[11]\n",
      "=\n",
      "70\n",
      "\n",
      "1 * gt[1,12]\n",
      "1 * q[1,12]\n",
      "1 * def[12]\n",
      "=\n",
      "70\n",
      "\n",
      "1 * gt[1,13]\n",
      "1 * q[1,13]\n",
      "1 * def[13]\n",
      "=\n",
      "80\n",
      "\n",
      "1 * gt[1,14]\n",
      "1 * q[1,14]\n",
      "1 * def[14]\n",
      "=\n",
      "80\n",
      "\n",
      "1 * gt[1,15]\n",
      "1 * q[1,15]\n",
      "1 * def[15]\n",
      "=\n",
      "80\n",
      "\n",
      "1 * gt[1,16]\n",
      "1 * q[1,16]\n",
      "1 * def[16]\n",
      "=\n",
      "80\n",
      "\n"
     ]
    }
   ],
   "source": [
    "for(p in 1:P) {\n",
    "\n",
    "    w[] = 0  ## hace cero todos los coeficientes\n",
    "\n",
    "    ## deficit\n",
    "    w[var.def[p]] <- 1\n",
    " \n",
    "    ## generación hidraulica\n",
    "    for (h in 1:H) \n",
    "        w[var.q[h,p]] <- hidros$rho[h] \n",
    "    \n",
    "    ## generación termica\n",
    "    w[var.gt[1:T, p]] <- 1 \n",
    "    \n",
    "    add.constraint(m, w, \"=\", dem[p])\n",
    "\n",
    "    printvec(w)\n",
    "    cat(\"=\\n\")\n",
    "    cat(dem[p])\n",
    "    cat('\\n')\n",
    "    cat('\\n')    \n",
    "        \n",
    "}"
   ]
  },
  {
   "cell_type": "markdown",
   "metadata": {},
   "source": [
    "## Continuidad de los volumenes de los embalses"
   ]
  },
  {
   "cell_type": "markdown",
   "metadata": {},
   "source": [
    "[Contenido](#Contenido)"
   ]
  },
  {
   "cell_type": "markdown",
   "metadata": {},
   "source": [
    "Para el primer periodo, el embalse inicial $Vol_{h,0}$ es conocido, entonces:"
   ]
  },
  {
   "cell_type": "markdown",
   "metadata": {},
   "source": [
    "$$Vol_{h,1} +Q_{h,1}+Ver_{h,1}=A_{h,1}+ Vol_{h,0}$$"
   ]
  },
  {
   "cell_type": "code",
   "execution_count": 98,
   "metadata": {
    "collapsed": false
   },
   "outputs": [
    {
     "name": "stdout",
     "output_type": "stream",
     "text": [
      "1 * vol[1,1]\n",
      "1 * q[1,1]\n",
      "1 * ver[1,1]\n",
      "=\n",
      "98\n",
      "\n"
     ]
    }
   ],
   "source": [
    "## para el periodo 1 y para cada planta hidraulica\n",
    "for (h in 1:H) {\n",
    "\n",
    "    w[] = 0  ## hace cero todos los coeficientes\n",
    "    \n",
    "    w[var.vol[h,1]]  <- 1\n",
    "    w[var.q[h,1]]    <- 1\n",
    "    w[var.ver[h,1]]  <- 1\n",
    "    \n",
    "    rhs <- aportes[aportes$planta == h & aportes$t == 1, 'aportes'] + hidros$Vo[h]\n",
    "    add.constraint(m, w, \"=\", rhs)\n",
    "\n",
    "    printvec(w)\n",
    "    cat('=\\n')\n",
    "    cat(rhs)\n",
    "    cat('\\n')\n",
    "    cat('\\n')\n",
    "}\n"
   ]
  },
  {
   "cell_type": "markdown",
   "metadata": {},
   "source": [
    "Para cada planta hidráulica $h$ y cada periodo de tiempo $p$ se debe cumplir que:"
   ]
  },
  {
   "cell_type": "markdown",
   "metadata": {},
   "source": [
    "$$Vol_{h,p} - Vol_{h,p-1}+Q_{h,p}+Ver_{h,p}=A_{h,p}$$"
   ]
  },
  {
   "cell_type": "code",
   "execution_count": 99,
   "metadata": {
    "collapsed": false,
    "scrolled": false
   },
   "outputs": [
    {
     "name": "stdout",
     "output_type": "stream",
     "text": [
      "-1 * vol[1,1]\n",
      "1 * vol[1,2]\n",
      "1 * q[1,2]\n",
      "1 * ver[1,2]\n",
      "=\n",
      "22\n",
      "\n",
      "-1 * vol[1,2]\n",
      "1 * vol[1,3]\n",
      "1 * q[1,3]\n",
      "1 * ver[1,3]\n",
      "=\n",
      "19\n",
      "\n",
      "-1 * vol[1,3]\n",
      "1 * vol[1,4]\n",
      "1 * q[1,4]\n",
      "1 * ver[1,4]\n",
      "=\n",
      "25\n",
      "\n",
      "-1 * vol[1,4]\n",
      "1 * vol[1,5]\n",
      "1 * q[1,5]\n",
      "1 * ver[1,5]\n",
      "=\n",
      "21\n",
      "\n",
      "-1 * vol[1,5]\n",
      "1 * vol[1,6]\n",
      "1 * q[1,6]\n",
      "1 * ver[1,6]\n",
      "=\n",
      "16\n",
      "\n",
      "-1 * vol[1,6]\n",
      "1 * vol[1,7]\n",
      "1 * q[1,7]\n",
      "1 * ver[1,7]\n",
      "=\n",
      "18\n",
      "\n",
      "-1 * vol[1,7]\n",
      "1 * vol[1,8]\n",
      "1 * q[1,8]\n",
      "1 * ver[1,8]\n",
      "=\n",
      "23\n",
      "\n",
      "-1 * vol[1,8]\n",
      "1 * vol[1,9]\n",
      "1 * q[1,9]\n",
      "1 * ver[1,9]\n",
      "=\n",
      "27\n",
      "\n",
      "-1 * vol[1,9]\n",
      "1 * vol[1,10]\n",
      "1 * q[1,10]\n",
      "1 * ver[1,10]\n",
      "=\n",
      "22\n",
      "\n",
      "-1 * vol[1,10]\n",
      "1 * vol[1,11]\n",
      "1 * q[1,11]\n",
      "1 * ver[1,11]\n",
      "=\n",
      "23\n",
      "\n",
      "-1 * vol[1,11]\n",
      "1 * vol[1,12]\n",
      "1 * q[1,12]\n",
      "1 * ver[1,12]\n",
      "=\n",
      "33\n",
      "\n",
      "-1 * vol[1,12]\n",
      "1 * vol[1,13]\n",
      "1 * q[1,13]\n",
      "1 * ver[1,13]\n",
      "=\n",
      "26\n",
      "\n",
      "-1 * vol[1,13]\n",
      "1 * vol[1,14]\n",
      "1 * q[1,14]\n",
      "1 * ver[1,14]\n",
      "=\n",
      "19\n",
      "\n",
      "-1 * vol[1,14]\n",
      "1 * vol[1,15]\n",
      "1 * q[1,15]\n",
      "1 * ver[1,15]\n",
      "=\n",
      "22\n",
      "\n",
      "-1 * vol[1,15]\n",
      "1 * vol[1,16]\n",
      "1 * q[1,16]\n",
      "1 * ver[1,16]\n",
      "=\n",
      "27\n",
      "\n"
     ]
    }
   ],
   "source": [
    "## para el periodo 2 y siguientes\n",
    "for(p in 2:P) {\n",
    "    \n",
    "    for (h in 1:H) {\n",
    "    \n",
    "        w[] = 0  ## hace cero todos los coeficientes\n",
    "        \n",
    "        w[var.vol[h,p]]    <-  1\n",
    "        w[var.vol[h,p-1]]  <- -1\n",
    "        w[var.q[h,p]]      <-  1\n",
    "        w[var.ver[h,p]]    <-  1\n",
    "        \n",
    "        rhs <- aportes[aportes$planta == h & aportes$t == p, 'aportes']\n",
    "        \n",
    "        add.constraint(m, w, \"=\", rhs)\n",
    "    \n",
    "        printvec(w)\n",
    "        cat('=\\n')\n",
    "        cat(rhs)\n",
    "        cat('\\n')\n",
    "        cat('\\n')\n",
    "    }    \n",
    "}"
   ]
  },
  {
   "cell_type": "markdown",
   "metadata": {},
   "source": [
    "Para el último periodo, el embalse final es conocido."
   ]
  },
  {
   "cell_type": "code",
   "execution_count": 100,
   "metadata": {
    "collapsed": false
   },
   "outputs": [
    {
     "name": "stdout",
     "output_type": "stream",
     "text": [
      "1 * vol[1,16]\n",
      "=\n",
      "70\n",
      "\n"
     ]
    }
   ],
   "source": [
    "## para el periodo P\n",
    "for (h in 1:H) {\n",
    "\n",
    "    w[] = 0  ## hace cero todos los coeficientes\n",
    "\n",
    "    w[var.vol[h,P]] <- 1\n",
    "    rhs = hidros$Vf[h]\n",
    "    add.constraint(m, w, \"=\", rhs)\n",
    "    \n",
    "    printvec(w)\n",
    "    cat('=\\n')\n",
    "    cat(rhs)\n",
    "    cat('\\n')\n",
    "    cat('\\n')\n",
    "\n",
    "}"
   ]
  },
  {
   "cell_type": "markdown",
   "metadata": {},
   "source": [
    "## Generación máxima"
   ]
  },
  {
   "cell_type": "markdown",
   "metadata": {},
   "source": [
    "[Contenido](#Contenido)"
   ]
  },
  {
   "cell_type": "markdown",
   "metadata": {},
   "source": [
    "Para cada planta hidraulica $h$ y por cada periodo de tiempo $p$:"
   ]
  },
  {
   "cell_type": "markdown",
   "metadata": {},
   "source": [
    "$$Q_{h,p} <= Qmax_h$$"
   ]
  },
  {
   "cell_type": "code",
   "execution_count": 101,
   "metadata": {
    "collapsed": false
   },
   "outputs": [
    {
     "name": "stdout",
     "output_type": "stream",
     "text": [
      "1 * q[1,1]\n",
      "<=\n",
      "30\n",
      "\n",
      "1 * q[1,2]\n",
      "<=\n",
      "30\n",
      "\n",
      "1 * q[1,3]\n",
      "<=\n",
      "30\n",
      "\n",
      "1 * q[1,4]\n",
      "<=\n",
      "30\n",
      "\n",
      "1 * q[1,5]\n",
      "<=\n",
      "30\n",
      "\n",
      "1 * q[1,6]\n",
      "<=\n",
      "30\n",
      "\n",
      "1 * q[1,7]\n",
      "<=\n",
      "30\n",
      "\n",
      "1 * q[1,8]\n",
      "<=\n",
      "30\n",
      "\n",
      "1 * q[1,9]\n",
      "<=\n",
      "30\n",
      "\n",
      "1 * q[1,10]\n",
      "<=\n",
      "30\n",
      "\n",
      "1 * q[1,11]\n",
      "<=\n",
      "30\n",
      "\n",
      "1 * q[1,12]\n",
      "<=\n",
      "30\n",
      "\n",
      "1 * q[1,13]\n",
      "<=\n",
      "30\n",
      "\n",
      "1 * q[1,14]\n",
      "<=\n",
      "30\n",
      "\n",
      "1 * q[1,15]\n",
      "<=\n",
      "30\n",
      "\n",
      "1 * q[1,16]\n",
      "<=\n",
      "30\n",
      "\n"
     ]
    }
   ],
   "source": [
    "for(p in 1:P) {\n",
    "    for (h in 1:H) {\n",
    "\n",
    "        w[] = 0  ## hace cero todos los coeficientes\n",
    "\n",
    "        w[var.q[h, p]]  <- 1\n",
    "        rhs <- hidros$Qmax[h]\n",
    "        add.constraint(m, w, \"<=\", rhs)\n",
    "        \n",
    "        printvec(w)\n",
    "        cat('<=\\n')\n",
    "        cat(rhs)\n",
    "        cat('\\n')\n",
    "        cat('\\n')\n",
    "    }\n",
    "}"
   ]
  },
  {
   "cell_type": "markdown",
   "metadata": {},
   "source": [
    "Por cada planta térmica $t$ y por cada periodo de tiempo $p$:"
   ]
  },
  {
   "cell_type": "markdown",
   "metadata": {},
   "source": [
    "$$GT_{t,p} <= GTmax_{t}$$"
   ]
  },
  {
   "cell_type": "code",
   "execution_count": 102,
   "metadata": {
    "collapsed": false
   },
   "outputs": [
    {
     "name": "stdout",
     "output_type": "stream",
     "text": [
      "1 * gt[1,1]\n",
      "<=\n",
      "31\n",
      "\n",
      "1 * gt[1,2]\n",
      "<=\n",
      "31\n",
      "\n",
      "1 * gt[1,3]\n",
      "<=\n",
      "31\n",
      "\n",
      "1 * gt[1,4]\n",
      "<=\n",
      "31\n",
      "\n",
      "1 * gt[1,5]\n",
      "<=\n",
      "31\n",
      "\n",
      "1 * gt[1,6]\n",
      "<=\n",
      "31\n",
      "\n",
      "1 * gt[1,7]\n",
      "<=\n",
      "31\n",
      "\n",
      "1 * gt[1,8]\n",
      "<=\n",
      "31\n",
      "\n",
      "1 * gt[1,9]\n",
      "<=\n",
      "31\n",
      "\n",
      "1 * gt[1,10]\n",
      "<=\n",
      "31\n",
      "\n",
      "1 * gt[1,11]\n",
      "<=\n",
      "31\n",
      "\n",
      "1 * gt[1,12]\n",
      "<=\n",
      "31\n",
      "\n",
      "1 * gt[1,13]\n",
      "<=\n",
      "31\n",
      "\n",
      "1 * gt[1,14]\n",
      "<=\n",
      "31\n",
      "\n",
      "1 * gt[1,15]\n",
      "<=\n",
      "31\n",
      "\n",
      "1 * gt[1,16]\n",
      "<=\n",
      "31\n",
      "\n"
     ]
    }
   ],
   "source": [
    "for(p in 1:P) {\n",
    "    for (t in 1:T) {\n",
    "\n",
    "        w[] = 0  ## hace cero todos los coeficientes\n",
    "\n",
    "        w[var.gt[t,p]] <- 1\n",
    "        rhs <- termos$GTmax[t]\n",
    "        \n",
    "        add.constraint(m, w, \"<=\", rhs)\n",
    "        \n",
    "        printvec(w)\n",
    "        cat('<=\\n')\n",
    "        cat(rhs)\n",
    "        cat('\\n')\n",
    "        cat('\\n')\n",
    "    }\n",
    "}"
   ]
  },
  {
   "cell_type": "markdown",
   "metadata": {},
   "source": [
    "## Volumen máximo"
   ]
  },
  {
   "cell_type": "markdown",
   "metadata": {},
   "source": [
    "[Contenido](#Contenido)"
   ]
  },
  {
   "cell_type": "code",
   "execution_count": 103,
   "metadata": {
    "collapsed": false
   },
   "outputs": [
    {
     "name": "stdout",
     "output_type": "stream",
     "text": [
      "1 * vol[1,1]\n",
      "<=\n",
      "100\n",
      "\n",
      "1 * vol[1,2]\n",
      "<=\n",
      "100\n",
      "\n",
      "1 * vol[1,3]\n",
      "<=\n",
      "100\n",
      "\n",
      "1 * vol[1,4]\n",
      "<=\n",
      "100\n",
      "\n",
      "1 * vol[1,5]\n",
      "<=\n",
      "100\n",
      "\n",
      "1 * vol[1,6]\n",
      "<=\n",
      "100\n",
      "\n",
      "1 * vol[1,7]\n",
      "<=\n",
      "100\n",
      "\n",
      "1 * vol[1,8]\n",
      "<=\n",
      "100\n",
      "\n",
      "1 * vol[1,9]\n",
      "<=\n",
      "100\n",
      "\n",
      "1 * vol[1,10]\n",
      "<=\n",
      "100\n",
      "\n",
      "1 * vol[1,11]\n",
      "<=\n",
      "100\n",
      "\n",
      "1 * vol[1,12]\n",
      "<=\n",
      "100\n",
      "\n",
      "1 * vol[1,13]\n",
      "<=\n",
      "100\n",
      "\n",
      "1 * vol[1,14]\n",
      "<=\n",
      "100\n",
      "\n",
      "1 * vol[1,15]\n",
      "<=\n",
      "100\n",
      "\n",
      "1 * vol[1,16]\n",
      "<=\n",
      "100\n",
      "\n"
     ]
    }
   ],
   "source": [
    "for(p in 1:P) {\n",
    "    for (h in 1:H) {\n",
    "\n",
    "        w[] = 0  ## hace cero todos los coeficientes\n",
    "        \n",
    "        w[var.vol[h,p]] <- 1\n",
    "        rhs = hidros$Vmax[h]\n",
    "        add.constraint(m, w, \"<=\", rhs)\n",
    "        \n",
    "        printvec(w)\n",
    "        cat('<=\\n')\n",
    "        cat(rhs)\n",
    "        cat('\\n')\n",
    "        cat('\\n')\n",
    "    }\n",
    "}"
   ]
  },
  {
   "cell_type": "markdown",
   "metadata": {},
   "source": [
    "# Solucion"
   ]
  },
  {
   "cell_type": "markdown",
   "metadata": {},
   "source": [
    "[Contenido](#Contenido)"
   ]
  },
  {
   "cell_type": "code",
   "execution_count": 104,
   "metadata": {
    "collapsed": false
   },
   "outputs": [
    {
     "data": {
      "text/plain": [
       "Model name: \n",
       "  a linear program with 80 decision variables and 81 constraints"
      ]
     },
     "metadata": {},
     "output_type": "display_data"
    }
   ],
   "source": [
    "m"
   ]
  },
  {
   "cell_type": "code",
   "execution_count": 105,
   "metadata": {
    "collapsed": false
   },
   "outputs": [
    {
     "data": {
      "text/html": [
       "0"
      ],
      "text/latex": [
       "0"
      ],
      "text/markdown": [
       "0"
      ],
      "text/plain": [
       "[1] 0"
      ]
     },
     "metadata": {},
     "output_type": "display_data"
    }
   ],
   "source": [
    "#   0:   \"optimal solution found\"\n",
    "#   1:   \"the model is sub-optimal\"\n",
    "#   2:   \"the model is infeasible\"\n",
    "solve(m)"
   ]
  },
  {
   "cell_type": "code",
   "execution_count": 106,
   "metadata": {
    "collapsed": true
   },
   "outputs": [],
   "source": [
    "w[] <- get.variables(m)"
   ]
  },
  {
   "cell_type": "code",
   "execution_count": 107,
   "metadata": {
    "collapsed": false
   },
   "outputs": [
    {
     "data": {
      "text/html": [
       "<dl class=dl-horizontal>\n",
       "\t<dt>gt[1,1]</dt>\n",
       "\t\t<dd>31</dd>\n",
       "\t<dt>gt[1,2]</dt>\n",
       "\t\t<dd>31</dd>\n",
       "\t<dt>gt[1,3]</dt>\n",
       "\t\t<dd>31</dd>\n",
       "\t<dt>gt[1,4]</dt>\n",
       "\t\t<dd>31</dd>\n",
       "\t<dt>gt[1,5]</dt>\n",
       "\t\t<dd>31</dd>\n",
       "\t<dt>gt[1,6]</dt>\n",
       "\t\t<dd>31</dd>\n",
       "\t<dt>gt[1,7]</dt>\n",
       "\t\t<dd>31</dd>\n",
       "\t<dt>gt[1,8]</dt>\n",
       "\t\t<dd>31</dd>\n",
       "\t<dt>gt[1,9]</dt>\n",
       "\t\t<dd>31</dd>\n",
       "\t<dt>gt[1,10]</dt>\n",
       "\t\t<dd>31</dd>\n",
       "\t<dt>gt[1,11]</dt>\n",
       "\t\t<dd>31</dd>\n",
       "\t<dt>gt[1,12]</dt>\n",
       "\t\t<dd>31</dd>\n",
       "\t<dt>gt[1,13]</dt>\n",
       "\t\t<dd>31</dd>\n",
       "\t<dt>gt[1,14]</dt>\n",
       "\t\t<dd>31</dd>\n",
       "\t<dt>gt[1,15]</dt>\n",
       "\t\t<dd>31</dd>\n",
       "\t<dt>gt[1,16]</dt>\n",
       "\t\t<dd>31</dd>\n",
       "</dl>\n"
      ],
      "text/latex": [
       "\\begin{description*}\n",
       "\\item[gt\\{{[}\\}1,1\\{{]}\\}] 31\n",
       "\\item[gt\\{{[}\\}1,2\\{{]}\\}] 31\n",
       "\\item[gt\\{{[}\\}1,3\\{{]}\\}] 31\n",
       "\\item[gt\\{{[}\\}1,4\\{{]}\\}] 31\n",
       "\\item[gt\\{{[}\\}1,5\\{{]}\\}] 31\n",
       "\\item[gt\\{{[}\\}1,6\\{{]}\\}] 31\n",
       "\\item[gt\\{{[}\\}1,7\\{{]}\\}] 31\n",
       "\\item[gt\\{{[}\\}1,8\\{{]}\\}] 31\n",
       "\\item[gt\\{{[}\\}1,9\\{{]}\\}] 31\n",
       "\\item[gt\\{{[}\\}1,10\\{{]}\\}] 31\n",
       "\\item[gt\\{{[}\\}1,11\\{{]}\\}] 31\n",
       "\\item[gt\\{{[}\\}1,12\\{{]}\\}] 31\n",
       "\\item[gt\\{{[}\\}1,13\\{{]}\\}] 31\n",
       "\\item[gt\\{{[}\\}1,14\\{{]}\\}] 31\n",
       "\\item[gt\\{{[}\\}1,15\\{{]}\\}] 31\n",
       "\\item[gt\\{{[}\\}1,16\\{{]}\\}] 31\n",
       "\\end{description*}\n"
      ],
      "text/markdown": [
       "gt[1,1]\n",
       ":   31gt[1,2]\n",
       ":   31gt[1,3]\n",
       ":   31gt[1,4]\n",
       ":   31gt[1,5]\n",
       ":   31gt[1,6]\n",
       ":   31gt[1,7]\n",
       ":   31gt[1,8]\n",
       ":   31gt[1,9]\n",
       ":   31gt[1,10]\n",
       ":   31gt[1,11]\n",
       ":   31gt[1,12]\n",
       ":   31gt[1,13]\n",
       ":   31gt[1,14]\n",
       ":   31gt[1,15]\n",
       ":   31gt[1,16]\n",
       ":   31\n",
       "\n"
      ],
      "text/plain": [
       " gt[1,1]  gt[1,2]  gt[1,3]  gt[1,4]  gt[1,5]  gt[1,6]  gt[1,7]  gt[1,8] \n",
       "      31       31       31       31       31       31       31       31 \n",
       " gt[1,9] gt[1,10] gt[1,11] gt[1,12] gt[1,13] gt[1,14] gt[1,15] gt[1,16] \n",
       "      31       31       31       31       31       31       31       31 "
      ]
     },
     "metadata": {},
     "output_type": "display_data"
    }
   ],
   "source": [
    "## generacion termica\n",
    "w[var.gt]"
   ]
  },
  {
   "cell_type": "code",
   "execution_count": 108,
   "metadata": {
    "collapsed": false
   },
   "outputs": [
    {
     "data": {
      "text/html": [
       "<dl class=dl-horizontal>\n",
       "\t<dt>def[1]</dt>\n",
       "\t\t<dd>0</dd>\n",
       "\t<dt>def[2]</dt>\n",
       "\t\t<dd>0</dd>\n",
       "\t<dt>def[3]</dt>\n",
       "\t\t<dd>0</dd>\n",
       "\t<dt>def[4]</dt>\n",
       "\t\t<dd>0</dd>\n",
       "\t<dt>def[5]</dt>\n",
       "\t\t<dd>0</dd>\n",
       "\t<dt>def[6]</dt>\n",
       "\t\t<dd>0</dd>\n",
       "\t<dt>def[7]</dt>\n",
       "\t\t<dd>0</dd>\n",
       "\t<dt>def[8]</dt>\n",
       "\t\t<dd>0</dd>\n",
       "\t<dt>def[9]</dt>\n",
       "\t\t<dd>9.99999999999999</dd>\n",
       "\t<dt>def[10]</dt>\n",
       "\t\t<dd>9.00000000000001</dd>\n",
       "\t<dt>def[11]</dt>\n",
       "\t\t<dd>39</dd>\n",
       "\t<dt>def[12]</dt>\n",
       "\t\t<dd>9.00000000000001</dd>\n",
       "\t<dt>def[13]</dt>\n",
       "\t\t<dd>49</dd>\n",
       "\t<dt>def[14]</dt>\n",
       "\t\t<dd>19</dd>\n",
       "\t<dt>def[15]</dt>\n",
       "\t\t<dd>19</dd>\n",
       "\t<dt>def[16]</dt>\n",
       "\t\t<dd>19</dd>\n",
       "</dl>\n"
      ],
      "text/latex": [
       "\\begin{description*}\n",
       "\\item[def\\{{[}\\}1\\{{]}\\}] 0\n",
       "\\item[def\\{{[}\\}2\\{{]}\\}] 0\n",
       "\\item[def\\{{[}\\}3\\{{]}\\}] 0\n",
       "\\item[def\\{{[}\\}4\\{{]}\\}] 0\n",
       "\\item[def\\{{[}\\}5\\{{]}\\}] 0\n",
       "\\item[def\\{{[}\\}6\\{{]}\\}] 0\n",
       "\\item[def\\{{[}\\}7\\{{]}\\}] 0\n",
       "\\item[def\\{{[}\\}8\\{{]}\\}] 0\n",
       "\\item[def\\{{[}\\}9\\{{]}\\}] 9.99999999999999\n",
       "\\item[def\\{{[}\\}10\\{{]}\\}] 9.00000000000001\n",
       "\\item[def\\{{[}\\}11\\{{]}\\}] 39\n",
       "\\item[def\\{{[}\\}12\\{{]}\\}] 9.00000000000001\n",
       "\\item[def\\{{[}\\}13\\{{]}\\}] 49\n",
       "\\item[def\\{{[}\\}14\\{{]}\\}] 19\n",
       "\\item[def\\{{[}\\}15\\{{]}\\}] 19\n",
       "\\item[def\\{{[}\\}16\\{{]}\\}] 19\n",
       "\\end{description*}\n"
      ],
      "text/markdown": [
       "def[1]\n",
       ":   0def[2]\n",
       ":   0def[3]\n",
       ":   0def[4]\n",
       ":   0def[5]\n",
       ":   0def[6]\n",
       ":   0def[7]\n",
       ":   0def[8]\n",
       ":   0def[9]\n",
       ":   9.99999999999999def[10]\n",
       ":   9.00000000000001def[11]\n",
       ":   39def[12]\n",
       ":   9.00000000000001def[13]\n",
       ":   49def[14]\n",
       ":   19def[15]\n",
       ":   19def[16]\n",
       ":   19\n",
       "\n"
      ],
      "text/plain": [
       " def[1]  def[2]  def[3]  def[4]  def[5]  def[6]  def[7]  def[8]  def[9] def[10] \n",
       "      0       0       0       0       0       0       0       0      10       9 \n",
       "def[11] def[12] def[13] def[14] def[15] def[16] \n",
       "     39       9      49      19      19      19 "
      ]
     },
     "metadata": {},
     "output_type": "display_data"
    }
   ],
   "source": [
    "## deficit\n",
    "w[var.def]"
   ]
  },
  {
   "cell_type": "code",
   "execution_count": 111,
   "metadata": {
    "collapsed": false
   },
   "outputs": [
    {
     "data": {
      "text/html": [
       "<dl class=dl-horizontal>\n",
       "\t<dt>vol[1,1]</dt>\n",
       "\t\t<dd>79</dd>\n",
       "\t<dt>vol[1,2]</dt>\n",
       "\t\t<dd>82</dd>\n",
       "\t<dt>vol[1,3]</dt>\n",
       "\t\t<dd>82</dd>\n",
       "\t<dt>vol[1,4]</dt>\n",
       "\t\t<dd>88</dd>\n",
       "\t<dt>vol[1,5]</dt>\n",
       "\t\t<dd>80</dd>\n",
       "\t<dt>vol[1,6]</dt>\n",
       "\t\t<dd>67</dd>\n",
       "\t<dt>vol[1,7]</dt>\n",
       "\t\t<dd>56</dd>\n",
       "\t<dt>vol[1,8]</dt>\n",
       "\t\t<dd>50</dd>\n",
       "\t<dt>vol[1,9]</dt>\n",
       "\t\t<dd>48</dd>\n",
       "\t<dt>vol[1,10]</dt>\n",
       "\t\t<dd>40</dd>\n",
       "\t<dt>vol[1,11]</dt>\n",
       "\t\t<dd>63</dd>\n",
       "\t<dt>vol[1,12]</dt>\n",
       "\t\t<dd>66</dd>\n",
       "\t<dt>vol[1,13]</dt>\n",
       "\t\t<dd>92</dd>\n",
       "\t<dt>vol[1,14]</dt>\n",
       "\t\t<dd>81</dd>\n",
       "\t<dt>vol[1,15]</dt>\n",
       "\t\t<dd>73</dd>\n",
       "\t<dt>vol[1,16]</dt>\n",
       "\t\t<dd>70</dd>\n",
       "</dl>\n"
      ],
      "text/latex": [
       "\\begin{description*}\n",
       "\\item[vol\\{{[}\\}1,1\\{{]}\\}] 79\n",
       "\\item[vol\\{{[}\\}1,2\\{{]}\\}] 82\n",
       "\\item[vol\\{{[}\\}1,3\\{{]}\\}] 82\n",
       "\\item[vol\\{{[}\\}1,4\\{{]}\\}] 88\n",
       "\\item[vol\\{{[}\\}1,5\\{{]}\\}] 80\n",
       "\\item[vol\\{{[}\\}1,6\\{{]}\\}] 67\n",
       "\\item[vol\\{{[}\\}1,7\\{{]}\\}] 56\n",
       "\\item[vol\\{{[}\\}1,8\\{{]}\\}] 50\n",
       "\\item[vol\\{{[}\\}1,9\\{{]}\\}] 48\n",
       "\\item[vol\\{{[}\\}1,10\\{{]}\\}] 40\n",
       "\\item[vol\\{{[}\\}1,11\\{{]}\\}] 63\n",
       "\\item[vol\\{{[}\\}1,12\\{{]}\\}] 66\n",
       "\\item[vol\\{{[}\\}1,13\\{{]}\\}] 92\n",
       "\\item[vol\\{{[}\\}1,14\\{{]}\\}] 81\n",
       "\\item[vol\\{{[}\\}1,15\\{{]}\\}] 73\n",
       "\\item[vol\\{{[}\\}1,16\\{{]}\\}] 70\n",
       "\\end{description*}\n"
      ],
      "text/markdown": [
       "vol[1,1]\n",
       ":   79vol[1,2]\n",
       ":   82vol[1,3]\n",
       ":   82vol[1,4]\n",
       ":   88vol[1,5]\n",
       ":   80vol[1,6]\n",
       ":   67vol[1,7]\n",
       ":   56vol[1,8]\n",
       ":   50vol[1,9]\n",
       ":   48vol[1,10]\n",
       ":   40vol[1,11]\n",
       ":   63vol[1,12]\n",
       ":   66vol[1,13]\n",
       ":   92vol[1,14]\n",
       ":   81vol[1,15]\n",
       ":   73vol[1,16]\n",
       ":   70\n",
       "\n"
      ],
      "text/plain": [
       " vol[1,1]  vol[1,2]  vol[1,3]  vol[1,4]  vol[1,5]  vol[1,6]  vol[1,7]  vol[1,8] \n",
       "       79        82        82        88        80        67        56        50 \n",
       " vol[1,9] vol[1,10] vol[1,11] vol[1,12] vol[1,13] vol[1,14] vol[1,15] vol[1,16] \n",
       "       48        40        63        66        92        81        73        70 "
      ]
     },
     "metadata": {},
     "output_type": "display_data"
    }
   ],
   "source": [
    "## volumen del embalse\n",
    "w[var.vol]"
   ]
  },
  {
   "cell_type": "markdown",
   "metadata": {},
   "source": [
    "---"
   ]
  },
  {
   "cell_type": "markdown",
   "metadata": {},
   "source": [
    "[Contenido](#Contenido)"
   ]
  },
  {
   "cell_type": "markdown",
   "metadata": {},
   "source": [
    "<a rel=\"license\" href=\"http://creativecommons.org/licenses/by-nc-nd/4.0/\"><img alt=\"Licencia de Creative Commons\" style=\"border-width:0\" src=\"https://i.creativecommons.org/l/by-nc-nd/4.0/88x31.png\" /></a><br />Este obra está bajo una <a rel=\"license\" href=\"http://creativecommons.org/licenses/by-nc-nd/4.0/\">licencia de Creative Commons Reconocimiento-NoComercial-SinObraDerivada 4.0 Internacional</a>."
   ]
  }
 ],
 "metadata": {
  "kernelspec": {
   "display_name": "R",
   "language": "R",
   "name": "ir"
  },
  "language_info": {
   "codemirror_mode": "r",
   "file_extension": ".r",
   "mimetype": "text/x-r-source",
   "name": "R",
   "pygments_lexer": "r",
   "version": "3.3.0"
  }
 },
 "nbformat": 4,
 "nbformat_minor": 0
}
