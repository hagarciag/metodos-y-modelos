{
 "cells": [
  {
   "cell_type": "markdown",
   "metadata": {
    "slideshow": {
     "slide_type": "slide"
    }
   },
   "source": [
    "Operaciones Elementales\n",
    "===\n",
    "\n",
    "**Juan David Velásquez Henao**  \n",
    "jdvelasq@unal.edu.co   \n",
    "Universidad Nacional de Colombia, Sede Medellín  \n",
    "Facultad de Minas  \n",
    "Medellín, Colombia\n",
    "\n",
    "---\n",
    "\n",
    "Haga click [aquí](https://github.com/jdvelasq/metodos-y-modelos/blob/master/02.03-operaciones-elementales.ipynb) para acceder a la última versión online\n",
    "\n",
    "Haga click [aquí](http://nbviewer.jupyter.org/github/jdvelasq/metodos-y-modelos/blob/master/02.03-operaciones-elementales.ipynb) para ver la última versión online en `nbviewer`. \n",
    "\n",
    "---"
   ]
  },
  {
   "cell_type": "markdown",
   "metadata": {},
   "source": [
    "Para el siguiente sistema lineal, elimine $x_1$ de todas las ecuaciones excepto la primera.\n",
    "\n",
    "$$ \n",
    "\\begin{array}{cccccc}\n",
    "  2x_1 & +3x_2 & -4x_3 &  +x_4 & = & 1\\\\\n",
    "   x_1 &  -x_2 &       & +5x_4 & = & 6\\\\\n",
    "  3x_1 &  +x_2 &  +x_3 &       & = & 2\\\\\n",
    "\\end{array}\n",
    "$$"
   ]
  },
  {
   "cell_type": "markdown",
   "metadata": {},
   "source": [
    "Para poder realizar simultaneamente los cálculos con Python, se carga la librería `\n",
    "numpy`."
   ]
  },
  {
   "cell_type": "code",
   "execution_count": 13,
   "metadata": {
    "collapsed": true
   },
   "outputs": [],
   "source": [
    "import numpy as np"
   ]
  },
  {
   "cell_type": "markdown",
   "metadata": {},
   "source": [
    "Se representa el sistema de ecuaciones como una matriz. Verifique que la matriz representa el problema anterior."
   ]
  },
  {
   "cell_type": "code",
   "execution_count": 14,
   "metadata": {
    "scrolled": true
   },
   "outputs": [
    {
     "data": {
      "text/plain": [
       "matrix([[ 2.,  3., -4.,  1.,  1.],\n",
       "        [ 1., -1.,  0.,  5.,  6.],\n",
       "        [ 3.,  1.,  1.,  0.,  2.]])"
      ]
     },
     "execution_count": 14,
     "metadata": {},
     "output_type": "execute_result"
    }
   ],
   "source": [
    "a = np.matrix('2. 3 -4 1 1; 1 -1 0 5 6; 3 1 1 0 2')\n",
    "a"
   ]
  },
  {
   "cell_type": "markdown",
   "metadata": {},
   "source": [
    "**Paso 1.** Se divide $E_1$ por 2:\n",
    "\n",
    "$$\n",
    "\\begin{array}{cccccc}\n",
    "   x_1 & +\\frac{3}{2} x_2 & -2x_3 &  +\\frac{1}{2}x_4 & = & \\frac{1}{2}\\\\\n",
    "   x_1 &  -x_2 &       & +5x_4 & = & 6\\\\\n",
    "  3x_1 &  +x_2 &  +x_3 &       & = & 2\\\\\n",
    "\\end{array}\n",
    "$$"
   ]
  },
  {
   "cell_type": "code",
   "execution_count": 10,
   "metadata": {
    "scrolled": false
   },
   "outputs": [
    {
     "data": {
      "text/plain": [
       "matrix([[ 1. ,  1.5, -2. ,  0.5,  0.5],\n",
       "        [ 1. , -1. ,  0. ,  5. ,  6. ],\n",
       "        [ 3. ,  1. ,  1. ,  0. ,  2. ]])"
      ]
     },
     "execution_count": 10,
     "metadata": {},
     "output_type": "execute_result"
    }
   ],
   "source": [
    "a[0,:] = a[0,:] / 2\n",
    "a"
   ]
  },
  {
   "cell_type": "markdown",
   "metadata": {},
   "source": [
    "**Paso 2.** Se divide $E'_1$ por -1 y se suma a $E_2$:\n",
    "\n",
    "$$\n",
    "\\begin{array}{cccccc}\n",
    "   x_1 & +\\frac{3}{2} x_2 & -2x_3 &  +\\frac{1}{2}x_4 & = & \\frac{1}{2} \\\\\n",
    "       & -\\frac{5}{2} x_2 & +2x_3 & + \\frac{9}{2}x_4 & = & \\frac{11}{2}\\\\\n",
    "  3x_1 &  +x_2 &  +x_3 &       & = & 2\\\\\n",
    "\\end{array}\n",
    "$$"
   ]
  },
  {
   "cell_type": "code",
   "execution_count": 11,
   "metadata": {
    "scrolled": false
   },
   "outputs": [
    {
     "data": {
      "text/plain": [
       "matrix([[ 1. ,  1.5, -2. ,  0.5,  0.5],\n",
       "        [ 0. , -2.5,  2. ,  4.5,  5.5],\n",
       "        [ 3. ,  1. ,  1. ,  0. ,  2. ]])"
      ]
     },
     "execution_count": 11,
     "metadata": {},
     "output_type": "execute_result"
    }
   ],
   "source": [
    "a[1,:] = a[1,:] + (-1) * a[0,:]\n",
    "a"
   ]
  },
  {
   "cell_type": "markdown",
   "metadata": {},
   "source": [
    "**Paso 3.** Se divide $E'_1$ por -3 y se suma a $E_3$:\n",
    "\n",
    "$$\n",
    "\\begin{array}{cccccc}\n",
    "   x_1 & +\\frac{3}{2} x_2 & -2x_3 &  +\\frac{1}{2} x_4 & = & \\frac{1}{2}  \\\\\n",
    "       & -\\frac{5}{2} x_2 & +2x_3 &  +\\frac{9}{2} x_4 & = & \\frac{11}{2} \\\\\n",
    "       & -\\frac{7}{2} x_2 & +7x_3 &  -\\frac{3}{2} x_4 & = & \\frac{1}{2}  \\\\\n",
    "\\end{array}\n",
    "$$"
   ]
  },
  {
   "cell_type": "code",
   "execution_count": 12,
   "metadata": {
    "scrolled": true
   },
   "outputs": [
    {
     "data": {
      "text/plain": [
       "matrix([[ 1. ,  1.5, -2. ,  0.5,  0.5],\n",
       "        [ 0. , -2.5,  2. ,  4.5,  5.5],\n",
       "        [ 0. , -3.5,  7. , -1.5,  0.5]])"
      ]
     },
     "execution_count": 12,
     "metadata": {},
     "output_type": "execute_result"
    }
   ],
   "source": [
    "a[2,:] = a[2,] + (-3) * a[0,]\n",
    "a"
   ]
  },
  {
   "cell_type": "markdown",
   "metadata": {},
   "source": [
    "**Ejercicio.--** Elimine $x_2$ de las ecuaciones 1 y 3."
   ]
  },
  {
   "cell_type": "markdown",
   "metadata": {},
   "source": [
    "**Ejercicio.--** Elimine $x_3$ de las ecuaciones 1 y 2."
   ]
  },
  {
   "cell_type": "markdown",
   "metadata": {
    "slideshow": {
     "slide_type": "slide"
    }
   },
   "source": [
    "Operaciones Elementales\n",
    "===\n",
    "\n",
    "**Juan David Velásquez Henao**  \n",
    "jdvelasq@unal.edu.co   \n",
    "Universidad Nacional de Colombia, Sede Medellín  \n",
    "Facultad de Minas  \n",
    "Medellín, Colombia\n",
    "\n",
    "---\n",
    "\n",
    "Haga click [aquí](https://github.com/jdvelasq/metodos-y-modelos/blob/master/02.03-operaciones-elementales.ipynb) para acceder a la última versión online\n",
    "\n",
    "Haga click [aquí](http://nbviewer.jupyter.org/github/jdvelasq/metodos-y-modelos/blob/master/02.03-operaciones-elementales.ipynb) para ver la última versión online en `nbviewer`. \n",
    "\n",
    "---"
   ]
  }
 ],
 "metadata": {
  "anaconda-cloud": {},
  "kernelspec": {
   "display_name": "Python 3",
   "language": "python",
   "name": "python3"
  },
  "language_info": {
   "codemirror_mode": {
    "name": "ipython",
    "version": 3
   },
   "file_extension": ".py",
   "mimetype": "text/x-python",
   "name": "python",
   "nbconvert_exporter": "python",
   "pygments_lexer": "ipython3",
   "version": "3.6.1"
  }
 },
 "nbformat": 4,
 "nbformat_minor": 1
}
