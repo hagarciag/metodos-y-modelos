{
 "cells": [
  {
   "cell_type": "markdown",
   "metadata": {
    "slideshow": {
     "slide_type": "slide"
    }
   },
   "source": [
    "Solución Básica Inicial\n",
    "===\n",
    "\n",
    "**Juan David Velásquez Henao**  \n",
    "jdvelasq@unal.edu.co   \n",
    "Universidad Nacional de Colombia, Sede Medellín  \n",
    "Facultad de Minas  \n",
    "Medellín, Colombia\n",
    "\n",
    "---\n",
    "\n",
    "Haga click [aquí](https://github.com/jdvelasq/metodos-y-modelos/blob/master/07-solucion-basica-inicial.ipynb) para acceder a la última versión online\n",
    "\n",
    "Haga click [aquí](http://nbviewer.jupyter.org/github/jdvelasq/metodos-y-modelos/blob/master/07-solucion-basica-inicial.ipynb) para ver la última versión online en `nbviewer`. \n",
    "\n",
    "---"
   ]
  },
  {
   "cell_type": "markdown",
   "metadata": {},
   "source": [
    "Para aplicar el método simplex es necesario obtener una solución básica inicial. A continuación se describe el método para su obtención. "
   ]
  },
  {
   "cell_type": "markdown",
   "metadata": {},
   "source": [
    "> **El problema solo tiene restricciones $\\le$**. Se transforma el problema a la forma estándar agregando variables de holgura, las cuales conforman la base inicial. El problema se optimiza usando el simplex tal como se indicó."
   ]
  },
  {
   "cell_type": "markdown",
   "metadata": {},
   "source": [
    "> **El problema tiene restricciones $\\ge$ o $=$**. Se transforma el problema a la forma estándar. Se agregan variables artificiales a dichas restricciones. La base esta conformada por las variables de holgura y las artificiales. La optimización se realiza en dos fases: en la primera fase se minimiza la suma de variables artificiales. Se retorna al problema original cuando todas las variables artificiales salen de la base y se continua la optimización como ya se explicó."
   ]
  },
  {
   "cell_type": "markdown",
   "metadata": {},
   "source": [
    "$$\\text{max } z = x_1 + 3x_2$$\n",
    "\n",
    "Sujeto a:\n",
    "$$ \n",
    "\\begin{array}{cccc}\n",
    "   -x_1 &  +x_2 & \\ge & 0\\\\\n",
    "  -3x_1 &  +x_2 & \\le & 3\\\\\n",
    "   +x_1 & +2x_2 & =   & 6\\\\\n",
    "\\end{array}\n",
    "$$   \n",
    "   \n",
    "   \n",
    "   \n",
    "$$x_1, x_2  \\ge  0$$\n",
    "  "
   ]
  },
  {
   "cell_type": "code",
   "execution_count": 61,
   "metadata": {},
   "outputs": [
    {
     "data": {
      "text/plain": [
       "matrix([[-1.,  1.,  0.],\n",
       "        [-3.,  1.,  3.],\n",
       "        [ 1.,  2.,  6.],\n",
       "        [-1., -3.,  0.]])"
      ]
     },
     "execution_count": 61,
     "metadata": {},
     "output_type": "execute_result"
    }
   ],
   "source": [
    "import numpy as np\n",
    "a = np.matrix('-1. 1 0; -3 1 3;  1 2 6; -1 -3 0')\n",
    "a"
   ]
  },
  {
   "cell_type": "markdown",
   "metadata": {},
   "source": [
    "**Paso 1.** Se lleva a la forma estándar."
   ]
  },
  {
   "cell_type": "markdown",
   "metadata": {},
   "source": [
    "$$ \n",
    "\\begin{array}{cccccc}\n",
    "   -x_1 &  +x_2 & -x_3 &      &    & = & 0\\\\\n",
    "  -3x_1 &  +x_2 &      & +x_4 &    & = & 3\\\\\n",
    "   +x_1 & +2x_2 &      &      &    & = & 6\\\\\n",
    "   -x_1 & -3x_2 &      &      & -z & = & 0\\\\   \n",
    "\\end{array}\n",
    "$$   \n",
    "   \n",
    "   "
   ]
  },
  {
   "cell_type": "code",
   "execution_count": 62,
   "metadata": {},
   "outputs": [
    {
     "data": {
      "text/plain": [
       "matrix([[-1.,  1., -1.,  0.,  0.,  0.],\n",
       "        [-3.,  1.,  0.,  1.,  0.,  3.],\n",
       "        [ 1.,  2.,  0.,  0.,  0.,  6.],\n",
       "        [-1., -3.,  0.,  0., -1.,  0.]])"
      ]
     },
     "execution_count": 62,
     "metadata": {},
     "output_type": "execute_result"
    }
   ],
   "source": [
    "a = np.c_[a[:,[0,1]], np.matrix('-1; 0; 0; 0'), np.matrix('0; 1; 0; 0'), np.matrix('0; 0; 0; -1'), a[:, [2]]]\n",
    "a"
   ]
  },
  {
   "cell_type": "markdown",
   "metadata": {
    "collapsed": true
   },
   "source": [
    "**Paso 2.** Se agregan las variables artificiales $x_5$ a la restricción 1 y $x_6$ a la restricción 3 para poder construir una solución básica factible inicial. Adicionalmente, se agrega una nueva función objetivo $w = x_5 + x_6$"
   ]
  },
  {
   "cell_type": "markdown",
   "metadata": {},
   "source": [
    "$$ \n",
    "\\begin{array}{ccccccc}\n",
    "   -x_1 &  +x_2 & -x_3 &      & +x_5 &      &    &    & = & 0\\\\\n",
    "  -3x_1 &  +x_2 &      & +x_4 &      &      &    &    & = & 3\\\\\n",
    "   +x_1 & +2x_2 &      &      &      & +x_6 &    &    & = & 6\\\\\n",
    "   -x_1 & -3x_2 &      &      &      &      & -z &    & = & 0\\\\   \n",
    "        &       &      &      & +x_5 & +x_6 &    & -w & = & 0\\\\\n",
    "\\end{array}\n",
    "$$   \n",
    "   \n",
    "   "
   ]
  },
  {
   "cell_type": "code",
   "execution_count": 63,
   "metadata": {},
   "outputs": [
    {
     "data": {
      "text/plain": [
       "matrix([[-1.,  1., -1.,  0.,  1.,  0.,  0.,  0.,  0.],\n",
       "        [-3.,  1.,  0.,  1.,  0.,  0.,  0.,  0.,  3.],\n",
       "        [ 1.,  2.,  0.,  0.,  0.,  1.,  0.,  0.,  6.],\n",
       "        [-1., -3.,  0.,  0.,  0.,  0., -1.,  0.,  0.]])"
      ]
     },
     "execution_count": 63,
     "metadata": {},
     "output_type": "execute_result"
    }
   ],
   "source": [
    "a = np.c_[a[:,[0,1,2,3]], np.matrix('1; 0; 0; 0'), np.matrix('0; 0; 1; 0'), a[:, [4]], np.matrix('0; 0; 0; 0'), a[:, [-1]]]\n",
    "a"
   ]
  },
  {
   "cell_type": "code",
   "execution_count": 64,
   "metadata": {},
   "outputs": [
    {
     "data": {
      "text/plain": [
       "matrix([[-1.,  1., -1.,  0.,  1.,  0.,  0.,  0.,  0.],\n",
       "        [-3.,  1.,  0.,  1.,  0.,  0.,  0.,  0.,  3.],\n",
       "        [ 1.,  2.,  0.,  0.,  0.,  1.,  0.,  0.,  6.],\n",
       "        [-1., -3.,  0.,  0.,  0.,  0., -1.,  0.,  0.],\n",
       "        [ 0.,  0.,  0.,  0.,  1.,  1.,  0., -1.,  0.]])"
      ]
     },
     "execution_count": 64,
     "metadata": {},
     "output_type": "execute_result"
    }
   ],
   "source": [
    "a = np.r_[a, np.matrix('0 0 0 0 1 1 0 -1 0')]\n",
    "a"
   ]
  },
  {
   "cell_type": "markdown",
   "metadata": {
    "collapsed": true
   },
   "source": [
    "**Paso 3.** En este punto no es posible aplicar el método simplex, ya que los coeficientes de $x_5$ y $x_6$ (que forman la base) son diferentes de cero. Se deben aplicar operaciones elementales para hacerlos cero en la última ecuación."
   ]
  },
  {
   "cell_type": "code",
   "execution_count": 65,
   "metadata": {
    "scrolled": false
   },
   "outputs": [
    {
     "data": {
      "text/plain": [
       "matrix([[-1.,  1., -1.,  0.,  1.,  0.,  0.,  0.,  0.],\n",
       "        [-3.,  1.,  0.,  1.,  0.,  0.,  0.,  0.,  3.],\n",
       "        [ 1.,  2.,  0.,  0.,  0.,  1.,  0.,  0.,  6.],\n",
       "        [-1., -3.,  0.,  0.,  0.,  0., -1.,  0.,  0.],\n",
       "        [ 0., -3.,  1.,  0.,  0.,  0.,  0., -1., -6.]])"
      ]
     },
     "execution_count": 65,
     "metadata": {},
     "output_type": "execute_result"
    }
   ],
   "source": [
    "a[4,:] = a[4,:] - a[0,:] ## se elimina x5\n",
    "a[4,:] = a[4,:] - a[2,:] ## se elimina x6\n",
    "a"
   ]
  },
  {
   "cell_type": "markdown",
   "metadata": {},
   "source": [
    "$$ \n",
    "\\begin{array}{ccccccc}\n",
    "   -x_1 &  +x_2 & -x_3 &      & +x_5 &      &    &    & = &  0\\\\\n",
    "  -3x_1 &  +x_2 &      & +x_4 &      &      &    &    & = &  3\\\\\n",
    "   +x_1 & +2x_2 &      &      &      & +x_6 &    &    & = &  6\\\\\n",
    "   -x_1 & -3x_2 &      &      &      &      & -z &    & = &  0\\\\   \n",
    "        & -3x_2 & +x_3 &      &      &      &    & -w & = & -6\\\\\n",
    "\\end{array}\n",
    "$$   \n",
    "   \n",
    "   "
   ]
  },
  {
   "cell_type": "markdown",
   "metadata": {},
   "source": [
    "**Paso 4.** Se procede a aplicar el método simplex. $x_2$ entre en la base y $x_5$ sale de la base."
   ]
  },
  {
   "cell_type": "code",
   "execution_count": 66,
   "metadata": {
    "scrolled": true
   },
   "outputs": [
    {
     "data": {
      "text/plain": [
       "matrix([[-1.,  1., -1.,  0.,  1.,  0.,  0.,  0.,  0.],\n",
       "        [-2.,  0.,  1.,  1., -1.,  0.,  0.,  0.,  3.],\n",
       "        [ 3.,  0.,  2.,  0., -2.,  1.,  0.,  0.,  6.],\n",
       "        [-4.,  0., -3.,  0.,  3.,  0., -1.,  0.,  0.],\n",
       "        [-3.,  0., -2.,  0.,  3.,  0.,  0., -1., -6.]])"
      ]
     },
     "execution_count": 66,
     "metadata": {},
     "output_type": "execute_result"
    }
   ],
   "source": [
    "a[1,:] = a[1,:] -   a[0,:]   ## se elimina x2 de la restricción 2\n",
    "a[2,:] = a[2,:] - 2*a[0,:]   ## se elimina x2 de la restricción 3\n",
    "a[3,:] = a[3,:] + 3*a[0,:]   ## se elimina x2 de la restricción 4\n",
    "a[4,:] = a[4,:] + 3*a[0,:]   ## se elimina x2 de la restricción 5\n",
    "a"
   ]
  },
  {
   "cell_type": "markdown",
   "metadata": {},
   "source": [
    "$$ \n",
    "\\begin{array}{ccccccc}\n",
    "   -x_1 &  +x_2 &  -x_3 &      &  +x_5 &      &    &    & = &  0\\\\\n",
    "  -2x_1 &       &  +x_3 & +x_4 &  -x_5 &      &    &    & = &  3\\\\\n",
    "  +3x_1 &       & +2x_3 &      & -2x_5 & +x_6 &    &    & = &  6\\\\\n",
    "  -4x_1 &       & -3x_3 &      & +3x_5 &      & -z &    & = &  0\\\\   \n",
    "  -3x_1 &       & -2x_3 &      & +3x_5 &      &    & -w & = & -6\\\\\n",
    "\\end{array}\n",
    "$$   \n",
    "   \n",
    "   "
   ]
  },
  {
   "cell_type": "markdown",
   "metadata": {},
   "source": [
    "**Paso 5.** $x_1$ entra a la base y sale $x_2$."
   ]
  },
  {
   "cell_type": "code",
   "execution_count": 67,
   "metadata": {
    "scrolled": true
   },
   "outputs": [
    {
     "data": {
      "text/plain": [
       "array([[ 0.   ,  1.   , -0.333,  0.   ,  0.333,  0.333,  0.   ,  0.   ,  2.   ],\n",
       "       [ 0.   ,  0.   ,  2.333,  1.   , -2.333,  0.667,  0.   ,  0.   ,  7.   ],\n",
       "       [ 1.   ,  0.   ,  0.667,  0.   , -0.667,  0.333,  0.   ,  0.   ,  2.   ],\n",
       "       [ 0.   ,  0.   , -0.333,  0.   ,  0.333,  1.333, -1.   ,  0.   ,  8.   ],\n",
       "       [ 0.   ,  0.   ,  0.   ,  0.   ,  1.   ,  1.   ,  0.   , -1.   ,  0.   ]])"
      ]
     },
     "execution_count": 67,
     "metadata": {},
     "output_type": "execute_result"
    }
   ],
   "source": [
    "a[2,:] = a[2,:] / 3\n",
    "a[0,:] = a[0,:] +   a[2,:]   ## se elimina x1 de la restricción 1\n",
    "a[1,:] = a[1,:] + 2*a[2,:]   ## se elimina x1 de la restricción 2\n",
    "a[3,:] = a[3,:] + 4*a[2,:]   ## se elimina x1 de la restricción 4\n",
    "a[4,:] = a[4,:] + 3*a[2,:]   ## se elimina x1 de la restricción 5\n",
    "a.round(3) "
   ]
  },
  {
   "cell_type": "markdown",
   "metadata": {},
   "source": [
    "$$ \n",
    "\\begin{array}{ccccccc}\n",
    "        &  +x_2 &  -\\frac{1}{3}x_3 &      &  +\\frac{1}{3}x_5 & +\\frac{1}{3}x_6 &    &    & = &  2\\\\\n",
    "        &       &  +\\frac{7}{3}x_3 & +x_4 &  -\\frac{7}{3}x_5 & +\\frac{2}{3}x_6 &    &    & = &  7\\\\\n",
    "   +x_1 &       &  +\\frac{2}{3}x_3 &      &  -\\frac{2}{3}x_5 & +\\frac{1}{3}x_6 &    &    & = &  2\\\\\n",
    "        &       &  -\\frac{1}{3}x_3 &      &  +\\frac{1}{3}x_5 & +\\frac{4}{3}x_6 & -z &    & = &  8\\\\   \n",
    "        &       &                  &      &  +x_5            & +x_6            &    & -w & = &  0\\\\\n",
    "\\end{array}\n",
    "$$   \n",
    "   \n",
    "   "
   ]
  },
  {
   "cell_type": "markdown",
   "metadata": {},
   "source": [
    "**Paso 6.** Ya que las variables artificiales salieron de la base, se puede eliminar la última ecuación y la variable $w$."
   ]
  },
  {
   "cell_type": "code",
   "execution_count": 68,
   "metadata": {
    "scrolled": true
   },
   "outputs": [
    {
     "data": {
      "text/plain": [
       "array([[ 0.   ,  1.   , -0.333,  0.   ,  0.333,  0.333,  0.   ,  2.   ],\n",
       "       [ 0.   ,  0.   ,  2.333,  1.   , -2.333,  0.667,  0.   ,  7.   ],\n",
       "       [ 1.   ,  0.   ,  0.667,  0.   , -0.667,  0.333,  0.   ,  2.   ],\n",
       "       [ 0.   ,  0.   , -0.333,  0.   ,  0.333,  1.333, -1.   ,  8.   ]])"
      ]
     },
     "execution_count": 68,
     "metadata": {},
     "output_type": "execute_result"
    }
   ],
   "source": [
    "a = a[[0,1,2,3],:]                ## elimina la última fila\n",
    "a = a[:,[0, 1, 2, 3, 4, 5, 6, 8]] ## elimina la columna correspondiente a 2\n",
    "a.round(3)"
   ]
  },
  {
   "cell_type": "markdown",
   "metadata": {},
   "source": [
    "$$ \n",
    "\\begin{array}{ccccccc}\n",
    "        &  +x_2 &  -\\frac{1}{3}x_3 &      &  +\\frac{1}{3}x_5 & +\\frac{1}{3}x_6 &    & = &  2\\\\\n",
    "        &       &  +\\frac{7}{3}x_3 & +x_4 &  -\\frac{7}{3}x_5 & +\\frac{2}{3}x_6 &    & = &  7\\\\\n",
    "   +x_1 &       &  +\\frac{2}{3}x_3 &      &  -\\frac{2}{3}x_5 & +\\frac{1}{3}x_6 &    & = &  2\\\\\n",
    "        &       &  -\\frac{1}{3}x_3 &      &  +\\frac{1}{3}x_5 & +\\frac{4}{3}x_6 & -z & = &  8\\\\   \n",
    "\\end{array}\n",
    "$$   \n",
    "   \n",
    "   "
   ]
  },
  {
   "cell_type": "markdown",
   "metadata": {},
   "source": [
    "**Paso 7.** Se aplica el método simplex. $x_3$ entra en la base y reemplaza a $x_1$."
   ]
  },
  {
   "cell_type": "code",
   "execution_count": 69,
   "metadata": {
    "scrolled": false
   },
   "outputs": [
    {
     "data": {
      "text/plain": [
       "array([[ 0.5,  1. , -0. ,  0. ,  0. ,  0.5,  0. ,  3. ],\n",
       "       [-3.5,  0. , -0. ,  1. ,  0. , -0.5,  0. ,  0. ],\n",
       "       [ 1.5,  0. ,  1. ,  0. , -1. ,  0.5,  0. ,  3. ],\n",
       "       [ 0.5,  0. , -0. ,  0. ,  0. ,  1.5, -1. ,  9. ]])"
      ]
     },
     "execution_count": 69,
     "metadata": {},
     "output_type": "execute_result"
    }
   ],
   "source": [
    "a[2,:] = 1.5 * a[2,:]\n",
    "a[0,:] = a[0,:] + 1./3*a[2,:]\n",
    "a[1,:] = a[1,:] - 7/3*a[2,:]\n",
    "a[3,:] = a[3,:] + 1/3*a[2,:]\n",
    "a.round(3)"
   ]
  },
  {
   "cell_type": "markdown",
   "metadata": {},
   "source": [
    "$$ \n",
    "\\begin{array}{ccccccc}\n",
    "   +\\frac{1}{2}x_1 &  +x_2 &       &      &       & +\\frac{1}{2}x_6 &    & = &  3\\\\\n",
    "   +\\frac{7}{2}x_1 &       &       & +x_4 &       & -\\frac{1}{2}x_6 &    & = &  0\\\\\n",
    "   +\\frac{3}{2}x_1 &       &  +x_3 &      &  -x_5 & +\\frac{1}{2}x_6 &    & = &  3\\\\\n",
    "   +\\frac{1}{2}x_1 &       &       &      &       & +\\frac{3}{2}x_6 & -z & = &  9\\\\   \n",
    "\\end{array}\n",
    "$$   \n",
    "   \n",
    "   "
   ]
  },
  {
   "cell_type": "markdown",
   "metadata": {},
   "source": [
    "**Paso 8.** Se llego a la solución óptima, puesto que todos los coeficientes de las variables no básicas ($x_1$, $x_4$, $x_5$, $x_6$) son iguales o mayores a cero. Ya que $x_4$ y $x_5$ tienen coeficiente cero en la última ecuación, existen múltiples soluciones. \n",
    "\n",
    "* El valor de la función objetivo es: $z= -9$.\n",
    "\n",
    "\n",
    "* $x_2$ = 3.\n",
    "\n",
    "\n",
    "* $x_1$ = 0, ya que no se encuentra en la base."
   ]
  },
  {
   "cell_type": "markdown",
   "metadata": {
    "slideshow": {
     "slide_type": "slide"
    }
   },
   "source": [
    "Solución Básica Inicial\n",
    "===\n",
    "\n",
    "**Juan David Velásquez Henao**  \n",
    "jdvelasq@unal.edu.co   \n",
    "Universidad Nacional de Colombia, Sede Medellín  \n",
    "Facultad de Minas  \n",
    "Medellín, Colombia\n",
    "\n",
    "---\n",
    "\n",
    "Haga click [aquí](https://github.com/jdvelasq/metodos-y-modelos/blob/master/07-solucion-basica-inicial.ipynb) para acceder a la última versión online\n",
    "\n",
    "Haga click [aquí](http://nbviewer.jupyter.org/github/jdvelasq/metodos-y-modelos/blob/master/07-solucion-basica-inicial.ipynb) para ver la última versión online en `nbviewer`. \n",
    "\n",
    "---"
   ]
  }
 ],
 "metadata": {
  "anaconda-cloud": {},
  "kernelspec": {
   "display_name": "Python 3",
   "language": "python",
   "name": "python3"
  },
  "language_info": {
   "codemirror_mode": {
    "name": "ipython",
    "version": 3
   },
   "file_extension": ".py",
   "mimetype": "text/x-python",
   "name": "python",
   "nbconvert_exporter": "python",
   "pygments_lexer": "ipython3",
   "version": "3.6.2"
  }
 },
 "nbformat": 4,
 "nbformat_minor": 1
}
