{
 "cells": [
  {
   "cell_type": "markdown",
   "metadata": {
    "slideshow": {
     "slide_type": "slide"
    }
   },
   "source": [
    "Método Simplex\n",
    "===\n",
    "\n",
    "**Juan David Velásquez Henao**  \n",
    "jdvelasq@unal.edu.co   \n",
    "Universidad Nacional de Colombia, Sede Medellín  \n",
    "Facultad de Minas  \n",
    "Medellín, Colombia\n",
    "\n",
    "---\n",
    "\n",
    "Haga click [aquí](https://github.com/jdvelasq/metodos-y-modelos/blob/master/02.04-metodo-simplex.ipynb) para acceder a la última versión online\n",
    "\n",
    "Haga click [aquí](http://nbviewer.jupyter.org/github/jdvelasq/metodos-y-modelos/blob/master/02.04-metodo-simplex.ipynb) para ver la última versión online en `nbviewer`. \n",
    "\n",
    "---"
   ]
  },
  {
   "cell_type": "markdown",
   "metadata": {},
   "source": [
    "### Sistema canónico\n",
    "\n",
    "$$ \n",
    "\\begin{array}{cccccccc}\n",
    "  +x_4 &     &     & -3x_1 &  +x_2 &      & = & 3\\\\\n",
    "       & x_5 &     &  -x_1 &  +x_2 & -x_3 & = & 0\\\\\n",
    "       &     & x_6 &  +x_1 & +2x_2 &      & = & 6\\\\\n",
    "\\end{array}\n",
    "$$\n",
    "\n",
    "* $x_4$, $x_5$ y $x_6$ son llamadas variables básica o dependientes y están asociadas al vector $b$.\n",
    "* $x_1$, $x_2$ y $x_3$\tson las variables no básicas o independientes.\n",
    "* El valor de las variables básicas se obtiene al asignar valores a las variables no básicas.\n",
    "* Si las variables no básicas son cero y $b_i \\ge 0$, para $i=1,...,m$, los valores de las variables básicas forman una solución básica factible.\n"
   ]
  },
  {
   "cell_type": "markdown",
   "metadata": {},
   "source": [
    "### Método simplex\n",
    "\n",
    "Función objetivo:\n",
    "\n",
    "$$\\text{max } x_1 + 3x_2$$\n",
    "\n",
    "Sujeto a:\n",
    "$$ \\begin{array}{cccc}\n",
    "   -x_1 & +x_2 & \\le & 1\\\\\n",
    "   +x_1 & +x_2 & \\le & 2\\\\\n",
    "    x_1,&  x_2 & \\ge & 0\n",
    "  \\end{array}$$"
   ]
  },
  {
   "cell_type": "markdown",
   "metadata": {},
   "source": [
    "**Forma estándar.** Se convierte en un problema de minimización: $\\text{min } z = -x_1 - 3x_2$\n",
    "\n",
    "$$ \n",
    "\\begin{array}{ccccccc}\n",
    "   -x_1 &  +x_2 & +x_3 &      &    & = & 1\\\\\n",
    "   +x_1 &  +x_2 &      & +x_4 &    & = & 2\\\\\n",
    "   -x_1 & -3x_2 &      &      & -z & = & 0\n",
    "\\end{array}\n",
    "$$\n",
    "  \n",
    "SBF: $x_1 = x_2 = 0$, $x_3 = 1$, $x_4 = 2$, $z=0$  \n",
    "\n",
    "Note que las variables básicas tienen coeficiente cero en la función objetivo."
   ]
  },
  {
   "cell_type": "code",
   "execution_count": 46,
   "metadata": {},
   "outputs": [
    {
     "data": {
      "text/plain": [
       "matrix([[-1.,  1.,  1.,  0.,  1.],\n",
       "        [ 1.,  1.,  0.,  1.,  2.],\n",
       "        [-1., -3.,  0.,  0.,  0.]])"
      ]
     },
     "execution_count": 46,
     "metadata": {},
     "output_type": "execute_result"
    }
   ],
   "source": [
    "import numpy as np\n",
    "a = np.matrix('-1. 1 1 0 1; 1 1 0 1 2; -1 -3 0 0 0')\n",
    "a"
   ]
  },
  {
   "cell_type": "markdown",
   "metadata": {},
   "source": [
    "**Paso 1.** Defina cuál variable ($x_1$, $x_2$) debe entrar a la base, tal que la solución siga siendo factible. Recuerde que $x_1$, $x_2$, $x_3$, $x_4 \\ge 0$.\n",
    "\n",
    "\n",
    "* Si $x_1$ se hace diferente de cero, entonces  decrece en: $z=0-x_1$.\n",
    "\n",
    "\n",
    "* Si $x_2$ se hace diferente de cero, entonces $z$ decrece en: $z=0-3x_2$. \n",
    "\n",
    "\n",
    "* Conclusión: se consigue disminuir más $z$ si $x_2$ ingresa a la base.\n",
    "\n",
    "\n",
    "* Nota 1. Si no hay coeficientes negativos la solución es óptima.\n",
    "\n",
    "\n",
    "* Nota 2. Si la solución es óptima y una variable no básica tiene coeficiente cero, entonces existen múltiples soluciones."
   ]
  },
  {
   "cell_type": "markdown",
   "metadata": {},
   "source": [
    "**Paso 2.** Defina cuál variable ($x_3$ o $x_4$) debe salir de la base. ¿Qué tan grande puede hacerse $x_2$? Recuerde que $x_3$, $x_4 \\ge = 0$.\n",
    "\n",
    "* De la restricción 1: $x_3 = 1 - x_2$ ($x_2$ puede tomar un valor máximo de 1, ya que $x_3 \\ge 0$)\n",
    "\n",
    "\n",
    "* De la restricción 2: $x_4 = 2 - x_2$ ($x_2$ puede tomar un valor máximo de 2, ya que $x_4 \\ge 0$)\n",
    "\n",
    "\n",
    "* Conclusión: El máximo valor que puede tomar $x_2$ es 1 debido a la restrición 1. Esto es, $x_2$ reemplaza a $x_3$ en la base."
   ]
  },
  {
   "cell_type": "markdown",
   "metadata": {},
   "source": [
    "**Paso 3**. Mediante operaciones elementales se obtiene la nueva base."
   ]
  },
  {
   "cell_type": "code",
   "execution_count": 47,
   "metadata": {
    "scrolled": true
   },
   "outputs": [
    {
     "data": {
      "text/plain": [
       "matrix([[-1.,  1.,  1.,  0.,  1.],\n",
       "        [ 2.,  0., -1.,  1.,  1.],\n",
       "        [-4.,  0.,  3.,  0.,  3.]])"
      ]
     },
     "execution_count": 47,
     "metadata": {},
     "output_type": "execute_result"
    }
   ],
   "source": [
    "# se hace E2 <- E2 - E1 y E3 <- E3 + 3*E1\n",
    "a[1,:] = a[1,:] + (-1) * a[0,:]\n",
    "a[2,:] = a[2,:] + 3 * a[0,:]\n",
    "a"
   ]
  },
  {
   "cell_type": "markdown",
   "metadata": {},
   "source": [
    "$$ \n",
    "\\begin{array}{ccccccc}\n",
    "   -x_1 & +x_2 &  +x_3 &      &    & = & 1\\\\\n",
    "  +2x_1 &      &  -x_3 & +x_4 &    & = & 1\\\\\n",
    "  -4x_1 &      & +3x_3 &      & -z & = & 3\n",
    "\\end{array}\n",
    "$$\n",
    "  \n",
    "SBF: $x_1 = x_3 = 0$, $x_2 = 1$, $x_4 = 1$, $z=-3$  "
   ]
  },
  {
   "cell_type": "markdown",
   "metadata": {},
   "source": [
    "** Paso 4.** Retorne al Paso 1. "
   ]
  },
  {
   "cell_type": "markdown",
   "metadata": {},
   "source": [
    "---"
   ]
  },
  {
   "cell_type": "markdown",
   "metadata": {},
   "source": [
    "**Continuación**. Se aplica nuevamente el Paso 1 y se encuentra que $x_1$ reemplaza a $x_4$ debido a la restricción 2."
   ]
  },
  {
   "cell_type": "code",
   "execution_count": 48,
   "metadata": {
    "scrolled": false
   },
   "outputs": [
    {
     "data": {
      "text/plain": [
       "matrix([[ 0. ,  1. ,  0.5,  0.5,  1.5],\n",
       "        [ 1. ,  0. , -0.5,  0.5,  0.5],\n",
       "        [ 0. ,  0. ,  1. ,  2. ,  5. ]])"
      ]
     },
     "execution_count": 48,
     "metadata": {},
     "output_type": "execute_result"
    }
   ],
   "source": [
    "a[1,:] = a[1,:] / 2          ## se hace E2 <- E2 / 2\n",
    "a[0,:] = a[0,:] + a[1,:]     ## E1 <- E1 + E2\n",
    "a[2,:] = a[2,:] + 4 * a[1,:] ## E3 <- E3 + 4*E2\n",
    "a"
   ]
  },
  {
   "cell_type": "markdown",
   "metadata": {},
   "source": [
    "$$ \n",
    "\\begin{array}{ccccccc}\n",
    "        & +x_2 &  +\\frac{1}{2} x_3 & \\frac{1}{2} x_4 &    & = & \\frac{3}{2}\\\\\n",
    "    x_1 &      &  -\\frac{1}{2} x_3 & \\frac{1}{2} x_4 &    & = & \\frac{1}{2}\\\\\n",
    "        &      &              +x_3 &           2 x_4 & -z & = & 5\n",
    "\\end{array}\n",
    "$$\n",
    "  \n",
    "SBF: $x_1 = 0.5$, $x_2 = 1.5$, $x_3 = x_4 = 0$, $z=-5$  "
   ]
  },
  {
   "cell_type": "markdown",
   "metadata": {},
   "source": [
    "Ya que todos los coeficientes de las variables no básicas ($x_3$ y $x_4$) son no negativos ($\\ge 0$), el algoritmo convergio a una solución óptima. Y ya que las variables no básicas tiene coeficientes diferentes de cero, la solución es única."
   ]
  },
  {
   "cell_type": "markdown",
   "metadata": {},
   "source": [
    "**Problema 1.** Resuelva el siguiente problema usando el método simplex."
   ]
  },
  {
   "cell_type": "markdown",
   "metadata": {
    "collapsed": true
   },
   "source": [
    "Función objetivo:\n",
    "\n",
    "$$\\text{max } 40x_1 + 60x_2$$\n",
    "\n",
    "Sujeto a:\n",
    "$$ \\begin{array}{cccc}\n",
    "    2x_1 &  +x_2 & \\le & 70\\\\\n",
    "     x_1 &  +x_2 & \\le & 40\\\\\n",
    "     x_1 & +3x_2 & \\le & 90\\\\\n",
    "        & x_1, x_2    &  \\ge & 0\n",
    "  \\end{array}$$"
   ]
  },
  {
   "cell_type": "markdown",
   "metadata": {},
   "source": [
    "**Problema 2.** Resuelva el siguiente problema usando el método simplex."
   ]
  },
  {
   "cell_type": "markdown",
   "metadata": {},
   "source": [
    "Función objetivo:\n",
    "\n",
    "$$\\text{max } 3x_1 + 2x_2$$\n",
    "\n",
    "Sujeto a:\n",
    "$$ \n",
    "\\begin{array}{cccc}\n",
    "    6x_1 &  +4x_2 & \\le & 24\\\\\n",
    "     x_1 &        & \\le & 3\\\\\n",
    "         & x_1, x_2 &  \\ge & 0\n",
    "\\end{array}\n",
    "$$"
   ]
  },
  {
   "cell_type": "markdown",
   "metadata": {
    "slideshow": {
     "slide_type": "slide"
    }
   },
   "source": [
    "Método Simplex\n",
    "===\n",
    "\n",
    "**Juan David Velásquez Henao**  \n",
    "jdvelasq@unal.edu.co   \n",
    "Universidad Nacional de Colombia, Sede Medellín  \n",
    "Facultad de Minas  \n",
    "Medellín, Colombia\n",
    "\n",
    "---\n",
    "\n",
    "Haga click [aquí](https://github.com/jdvelasq/metodos-y-modelos/blob/master/02.04-metodo-simplex.ipynb) para acceder a la última versión online\n",
    "\n",
    "Haga click [aquí](http://nbviewer.jupyter.org/github/jdvelasq/metodos-y-modelos/blob/master/02.04-metodo-simplex.ipynb) para ver la última versión online en `nbviewer`. \n",
    "\n",
    "---"
   ]
  }
 ],
 "metadata": {
  "anaconda-cloud": {},
  "kernelspec": {
   "display_name": "Python 3",
   "language": "python",
   "name": "python3"
  },
  "language_info": {
   "codemirror_mode": {
    "name": "ipython",
    "version": 3
   },
   "file_extension": ".py",
   "mimetype": "text/x-python",
   "name": "python",
   "nbconvert_exporter": "python",
   "pygments_lexer": "ipython3",
   "version": "3.6.2"
  }
 },
 "nbformat": 4,
 "nbformat_minor": 1
}
